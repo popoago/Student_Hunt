{
 "cells": [
  {
   "cell_type": "code",
   "execution_count": 1,
   "metadata": {
    "collapsed": true
   },
   "outputs": [],
   "source": [
    "import pandas as pd\n",
    "import numpy as np\n",
    "import seaborn as sns\n",
    "from pandas import DataFrame,Series\n",
    "%matplotlib inline"
   ]
  },
  {
   "cell_type": "code",
   "execution_count": 2,
   "metadata": {
    "collapsed": true
   },
   "outputs": [],
   "source": [
    "data = pd.read_csv(\"Data.csv\")\n",
    "data[\"Mean_Park_Month\"]=data.groupby([\"Park_ID\",\"Month\"]).transform(lambda x: x.mean()).Footfall"
   ]
  },
  {
   "cell_type": "code",
   "execution_count": 3,
   "metadata": {
    "collapsed": true
   },
   "outputs": [],
   "source": [
    "train = data.loc[data[\"Train\"]==True,]\n",
    "test = data.loc[data[\"Train\"]==False]"
   ]
  },
  {
   "cell_type": "code",
   "execution_count": null,
   "metadata": {
    "collapsed": true
   },
   "outputs": [],
   "source": [
    "loc = pd.get_dummies(data[\"Location_Type\"],drop_first=True,prefix=\"loc\")\n",
    "#year = pd.get_dummies(data[\"Year\"],drop_first=True,prefix=\"year\")\n",
    "month = pd.get_dummies(data[\"Month\"],drop_first=True,prefix=\"month\")\n",
    "season = pd.get_dummies(data[\"Season\"],drop_first=True,prefix=\"season\")\n",
    "day = pd.get_dummies(data[\"Day\"],drop_first=True,prefix=\"day\")\n",
    "weekday = pd.get_dummies(data[\"Weekday\"],drop_first=True,prefix=\"weekday\")\n",
    "park = pd.get_dummies(data[\"Park_ID\"],drop_first=True,prefix=\"park\")\n",
    "wind = pd.get_dummies(data[\"Wind_Origination\"],drop_first=True,prefix=\"wind\")"
   ]
  }
 ],
 "metadata": {
  "kernelspec": {
   "display_name": "Python 3",
   "language": "python",
   "name": "python3"
  },
  "language_info": {
   "codemirror_mode": {
    "name": "ipython",
    "version": 3
   },
   "file_extension": ".py",
   "mimetype": "text/x-python",
   "name": "python",
   "nbconvert_exporter": "python",
   "pygments_lexer": "ipython3",
   "version": "3.5.2"
  }
 },
 "nbformat": 4,
 "nbformat_minor": 0
}
