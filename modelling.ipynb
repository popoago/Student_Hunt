{
 "cells": [
  {
   "cell_type": "code",
   "execution_count": 1,
   "metadata": {
    "collapsed": true
   },
   "outputs": [],
   "source": [
    "import pandas as pd\n",
    "import numpy as np\n",
    "import seaborn as sns\n",
    "from pandas import DataFrame,Series\n",
    "%matplotlib inline"
   ]
  },
  {
   "cell_type": "code",
   "execution_count": 193,
   "metadata": {
    "collapsed": true
   },
   "outputs": [],
   "source": [
    "data = pd.read_csv(\"Data.csv\")"
   ]
  },
  {
   "cell_type": "code",
   "execution_count": 194,
   "metadata": {
    "collapsed": true
   },
   "outputs": [],
   "source": [
    "#Binning:\n",
    "def binning(col, cut_points, labels=None):\n",
    "  #Define min and max values:\n",
    "  minval = col.min()\n",
    "  maxval = col.max()\n",
    "\n",
    "  #create list by adding min and max to cut_points\n",
    "  break_points = [minval] + cut_points + [maxval]\n",
    "\n",
    "  #if no labels provided, use default labels 0 ... (n-1)\n",
    "  if not labels:\n",
    "    labels = range(len(cut_points)+1)\n",
    "\n",
    "  #Binning using cut function of pandas\n",
    "  colBin = pd.cut(col,bins=break_points,labels=labels,include_lowest=True)\n",
    "  return colBin\n",
    "\n",
    "#Binning age:\n",
    "cut_points = [90,180,270]\n",
    "labels = [\"SW\",\"SE\",\"NE\",\"NW\"]\n",
    "data[\"Wind_Origination\"] = binning(data[\"Direction_Of_Wind\"], cut_points, labels)\n",
    "#print(pd.value_counts(data[\"MaxSpeed_Bin\"], sort=False))\n",
    "#data[\"Wind_Origination\"] = data[\"Wind_Origination\"].apply(lambda x: 'W' if x==\"W2\" else x)"
   ]
  },
  {
   "cell_type": "code",
   "execution_count": 195,
   "metadata": {
    "collapsed": false
   },
   "outputs": [],
   "source": [
    "data[\"Mean_Park_Month\"]=data.groupby([\"Park_ID\",\"Month\"]).transform(lambda x: x.mean()).Footfall"
   ]
  },
  {
   "cell_type": "code",
   "execution_count": 196,
   "metadata": {
    "collapsed": true
   },
   "outputs": [],
   "source": [
    "train = data.loc[data[\"Train\"]==True,]\n",
    "test = data.loc[data[\"Train\"]==False]"
   ]
  },
  {
   "cell_type": "code",
   "execution_count": 4,
   "metadata": {
    "collapsed": true
   },
   "outputs": [],
   "source": [
    "def calc_anova(dataframe,x,target):\n",
    "    grand_mean = dataframe[target].mean()\n",
    "    categories = dataframe[x].value_counts()\n",
    "    groups = dataframe.groupby(x)[target]\n",
    "    ss_between = (((groups.mean()-grand_mean)**2)*groups.count()).sum()\n",
    "    df_between = len(categories)-1\n",
    "    ms_between = ss_between/df_between\n",
    "    ss_within = (groups.var()*(groups.count()-1)).sum()\n",
    "    df_within = dataframe.shape[0]-len(categories)\n",
    "    ms_within = ss_within/df_within\n",
    "    F = ms_between/ms_within\n",
    "    eeta = ss_between/(ss_between+ss_within)\n",
    "    print(F)\n",
    "    print(\"eeta = \",eeta)"
   ]
  },
  {
   "cell_type": "code",
   "execution_count": 84,
   "metadata": {
    "collapsed": false
   },
   "outputs": [
    {
     "name": "stdout",
     "output_type": "stream",
     "text": [
      "6.188004398452261\n",
      "eeta =  0.00032406658783473686\n"
     ]
    }
   ],
   "source": [
    "calc_anova(train,\"Day\",\"Footfall\")"
   ]
  },
  {
   "cell_type": "code",
   "execution_count": 86,
   "metadata": {
    "collapsed": false
   },
   "outputs": [
    {
     "name": "stdout",
     "output_type": "stream",
     "text": [
      "0.8870545076260429\n",
      "eeta =  2.3233960741339433e-05\n"
     ]
    }
   ],
   "source": [
    "calc_anova(train,\"Location_Type\",\"Footfall\")"
   ]
  },
  {
   "cell_type": "code",
   "execution_count": 87,
   "metadata": {
    "collapsed": false
   },
   "outputs": [
    {
     "name": "stdout",
     "output_type": "stream",
     "text": [
      "78.51798339842898\n",
      "eeta =  0.00748498651728068\n"
     ]
    }
   ],
   "source": [
    "calc_anova(train,\"Year\",\"Footfall\")"
   ]
  },
  {
   "cell_type": "code",
   "execution_count": 89,
   "metadata": {
    "collapsed": false
   },
   "outputs": [
    {
     "name": "stdout",
     "output_type": "stream",
     "text": [
      "3762.9761691562603\n",
      "eeta =  0.2654746501542638\n"
     ]
    }
   ],
   "source": [
    "calc_anova(train,\"Month\",\"Footfall\")"
   ]
  },
  {
   "cell_type": "code",
   "execution_count": 90,
   "metadata": {
    "collapsed": false
   },
   "outputs": [
    {
     "name": "stdout",
     "output_type": "stream",
     "text": [
      "13.072261716343013\n",
      "eeta =  0.0030727749051345935\n"
     ]
    }
   ],
   "source": [
    "calc_anova(train,\"Park_ID\",\"Footfall\")"
   ]
  },
  {
   "cell_type": "code",
   "execution_count": 91,
   "metadata": {
    "collapsed": false
   },
   "outputs": [
    {
     "name": "stdout",
     "output_type": "stream",
     "text": [
      "0.0021047365012230846\n",
      "eeta =  1.8376039729924502e-08\n"
     ]
    }
   ],
   "source": [
    "calc_anova(train,\"Weekday\",\"Footfall\")"
   ]
  },
  {
   "cell_type": "code",
   "execution_count": 97,
   "metadata": {
    "collapsed": false
   },
   "outputs": [
    {
     "name": "stdout",
     "output_type": "stream",
     "text": [
      "11027.768743729015\n",
      "eeta =  0.2241138451986763\n"
     ]
    }
   ],
   "source": [
    "calc_anova(train,\"Season\",\"Footfall\")"
   ]
  },
  {
   "cell_type": "code",
   "execution_count": 200,
   "metadata": {
    "collapsed": false
   },
   "outputs": [
    {
     "data": {
      "text/plain": [
       "Index(['season_Spring', 'season_Summer', 'season_Winter', 'weekday_1',\n",
       "       'wind_SE', 'wind_NE', 'wind_NW', 'month_2', 'month_3', 'month_4',\n",
       "       'month_5', 'month_6', 'month_7', 'month_8', 'month_9', 'month_10',\n",
       "       'month_11', 'month_12'],\n",
       "      dtype='object')"
      ]
     },
     "execution_count": 200,
     "metadata": {},
     "output_type": "execute_result"
    }
   ],
   "source": [
    "data2.columns"
   ]
  },
  {
   "cell_type": "code",
   "execution_count": 197,
   "metadata": {
    "collapsed": true
   },
   "outputs": [],
   "source": [
    "#loc = pd.get_dummies(data[\"Location_Type\"],drop_first=True,prefix=\"loc\")\n",
    "#year = pd.get_dummies(data[\"Year\"],drop_first=True,prefix=\"year\")\n",
    "month = pd.get_dummies(data[\"Month\"],drop_first=True,prefix=\"month\")\n",
    "season = pd.get_dummies(data[\"Season\"],drop_first=True,prefix=\"season\")\n",
    "#day = pd.get_dummies(data[\"Day\"],drop_first=True,prefix=\"day\")\n",
    "weekday = pd.get_dummies(data[\"Weekday\"],drop_first=True,prefix=\"weekday\")\n",
    "#park = pd.get_dummies(data[\"Park_ID\"],drop_first=True,prefix=\"park\")\n",
    "wind = pd.get_dummies(data[\"Wind_Origination\"],drop_first=True,prefix=\"wind\")"
   ]
  },
  {
   "cell_type": "code",
   "execution_count": 201,
   "metadata": {
    "collapsed": false
   },
   "outputs": [],
   "source": [
    "data2 = pd.concat([data,season,weekday,wind,month],axis=1)"
   ]
  },
  {
   "cell_type": "code",
   "execution_count": 202,
   "metadata": {
    "collapsed": false
   },
   "outputs": [],
   "source": [
    "data2.drop([\"Season\",\"Day\",\"Weekday\",\"Location_Type\",\"Year\",\"Wind_Origination\",\"Date\",\"ID\",\"Park_ID\",\"Month\",\"Train\"],inplace=True,axis=1)"
   ]
  },
  {
   "cell_type": "code",
   "execution_count": 203,
   "metadata": {
    "collapsed": true
   },
   "outputs": [],
   "source": [
    "train2 = data2.loc[data[\"Train\"]==True,]\n",
    "test2 = data2.loc[data[\"Train\"]==False,]"
   ]
  },
  {
   "cell_type": "code",
   "execution_count": 110,
   "metadata": {
    "collapsed": false
   },
   "outputs": [],
   "source": [
    "from sklearn import preprocessing\n",
    "from sklearn.cross_validation import train_test_split\n",
    "from sklearn.cross_validation import KFold\n",
    "from sklearn.ensemble import RandomForestRegressor\n",
    "from sklearn.metrics import mean_squared_error\n",
    "from sklearn.preprocessing import normalize"
   ]
  },
  {
   "cell_type": "code",
   "execution_count": 207,
   "metadata": {
    "collapsed": false
   },
   "outputs": [],
   "source": [
    "features = list(train2.columns)\n",
    "features.remove(\"Footfall\")"
   ]
  },
  {
   "cell_type": "markdown",
   "metadata": {},
   "source": [
    "## GradientBoosting"
   ]
  },
  {
   "cell_type": "code",
   "execution_count": 275,
   "metadata": {
    "collapsed": false
   },
   "outputs": [],
   "source": [
    "from sklearn.ensemble import GradientBoostingRegressor  #GBM algorithm\n",
    "from sklearn import cross_validation, metrics   #Additional scklearn functions\n",
    "from sklearn.grid_search import GridSearchCV   #Perforing grid search\n",
    "import matplotlib.pylab as plt\n",
    "%matplotlib inline\n",
    "from matplotlib.pylab import rcParams\n",
    "rcParams['figure.figsize'] = 12, 4\n",
    "train = train2[features]\n",
    "target = train2[\"Footfall\"]\n",
    "test = test2[features]"
   ]
  },
  {
   "cell_type": "code",
   "execution_count": 227,
   "metadata": {
    "collapsed": true
   },
   "outputs": [],
   "source": [
    "def modelfit(alg,dtrain,predictors,test,performCV=True,printFeaturesImportance=True,cv_folds=5):\n",
    "    #create training and validation sets\n",
    "    #X_train, X_test, Y_train, Y_test = train_test_split(dtrain[predictors],target,test_size=.4)\n",
    "    \n",
    "    #fit the algorithm on data\n",
    "    alg.fit(dtrain[predictors],target)\n",
    "    \n",
    "    #predict on training set\n",
    "    dtrain_prediction = alg.predict(dtrain[predictors])\n",
    "    \n",
    "    #predict on test set\n",
    "    y = alg.predict(test)\n",
    "        \n",
    "    #cross validation score\n",
    "    if performCV:\n",
    "        cv_score = cross_validation.cross_val_score(alg,dtrain[predictors],target,cv=cv_folds,scoring=\"r2\")\n",
    "        \n",
    "    #Print model score\n",
    "    print(\"\\n/MODEL REPORT\")\n",
    "    print(\"Accuracy : %.4g\" % metrics.r2_score(target.values, dtrain_prediction))\n",
    "    \n",
    "    if performCV:\n",
    "        print(\"CV score :Mean - %.7g | Std - %.7g | Min - %.7g | Max - %.7g\" % (np.mean(cv_score),np.std(cv_score),np.min(cv_score),np.max(cv_score)))\n",
    "    \n",
    "    #Print features importance:\n",
    "    if printFeaturesImportance:\n",
    "        feat_imp=pd.Series(alg.feature_importances_, predictors).sort_values(ascending=False)\n",
    "        feat_imp.plot(kind='bar', title='Feature Importances')\n",
    "        plt.ylabel('Feature Importance Score')\n",
    "    return y"
   ]
  },
  {
   "cell_type": "code",
   "execution_count": 228,
   "metadata": {
    "collapsed": false
   },
   "outputs": [
    {
     "name": "stdout",
     "output_type": "stream",
     "text": [
      "\n",
      "/MODEL REPORT\n",
      "Accuracy : 0.5719\n",
      "CV score :Mean - 0.5575159 | Std - 0.02828942 | Min - 0.5023192 | Max - 0.5814274\n"
     ]
    },
    {
     "data": {
      "image/png": "[encoded data removed]",
      "text/plain": [
       "<matplotlib.figure.Figure at 0x7f42a6e11e80>"
      ]
     },
     "metadata": {},
     "output_type": "display_data"
    }
   ],
   "source": [
    "gbm0 = GradientBoostingRegressor(random_state=10)\n",
    "modelfit(gbm0, train, features)"
   ]
  },
  {
   "cell_type": "code",
   "execution_count": 250,
   "metadata": {
    "collapsed": false
   },
   "outputs": [
    {
     "data": {
      "text/plain": [
       "GridSearchCV(cv=5, error_score='raise',\n",
       "       estimator=GradientBoostingRegressor(alpha=0.9, init=None, learning_rate=1.2, loss='ls',\n",
       "             max_depth=8, max_features='sqrt', max_leaf_nodes=None,\n",
       "             min_samples_leaf=500, min_samples_split=1500,\n",
       "             min_weight_fraction_leaf=0.0, n_estimators=100,\n",
       "             presort='auto', random_state=10, subsample=0.8, verbose=0,\n",
       "             warm_start=False),\n",
       "       fit_params={}, iid=False, n_jobs=4,\n",
       "       param_grid=[{'n_estimators': [40, 45, 50]}],\n",
       "       pre_dispatch='2*n_jobs', refit=True, scoring='mean_squared_error',\n",
       "       verbose=0)"
      ]
     },
     "execution_count": 250,
     "metadata": {},
     "output_type": "execute_result"
    }
   ],
   "source": [
    "param_test1 = [{'n_estimators':[130,150,170,190,210,230]}]\n",
    "gsearch1 = GridSearchCV(estimator = GradientBoostingRegressor(learning_rate=1, min_samples_split=1500,min_samples_leaf=500,max_depth=8,max_features='sqrt',subsample=0.8,random_state=10), \n",
    "param_grid = param_test1, scoring='mean_squared_error',n_jobs=4,iid=False, cv=5)\n",
    "gsearch1.fit(train,target)"
   ]
  },
  {
   "cell_type": "code",
   "execution_count": 251,
   "metadata": {
    "collapsed": false
   },
   "outputs": [
    {
     "data": {
      "text/plain": [
       "([mean: -27906.42022, std: 1531.08254, params: {'n_estimators': 40},\n",
       "  mean: -27694.58730, std: 1560.90897, params: {'n_estimators': 45},\n",
       "  mean: -27503.09509, std: 1646.81484, params: {'n_estimators': 50}],\n",
       " {'n_estimators': 50},\n",
       " -27503.095091371641)"
      ]
     },
     "execution_count": 251,
     "metadata": {},
     "output_type": "execute_result"
    }
   ],
   "source": [
    "gsearch1.grid_scores_, gsearch1.best_params_, gsearch1.best_score_"
   ]
  },
  {
   "cell_type": "code",
   "execution_count": 259,
   "metadata": {
    "collapsed": false
   },
   "outputs": [
    {
     "data": {
      "text/plain": [
       "GridSearchCV(cv=5, error_score='raise',\n",
       "       estimator=GradientBoostingRegressor(alpha=0.9, init=None, learning_rate=1, loss='ls',\n",
       "             max_depth=3, max_features='sqrt', max_leaf_nodes=None,\n",
       "             min_samples_leaf=1, min_samples_split=2,\n",
       "             min_weight_fraction_leaf=0.0, n_estimators=120,\n",
       "             presort='auto', random_state=10, subsample=0.8, verbose=0,\n",
       "             warm_start=False),\n",
       "       fit_params={}, iid=False, n_jobs=4,\n",
       "       param_grid=[{'max_depth': [8, 7, 9], 'min_samples_split': [1000, 1100, 1200]}],\n",
       "       pre_dispatch='2*n_jobs', refit=True, scoring='mean_squared_error',\n",
       "       verbose=0)"
      ]
     },
     "execution_count": 259,
     "metadata": {},
     "output_type": "execute_result"
    }
   ],
   "source": [
    "param_test2 = [{'max_depth':[8,7,9], 'min_samples_split':[1000,1100,1200]}]\n",
    "gsearch2 = GridSearchCV(estimator = GradientBoostingRegressor(learning_rate=1, n_estimators=120, max_features='sqrt', subsample=0.8, random_state=10), \n",
    "param_grid = param_test2, scoring='mean_squared_error',n_jobs=4,iid=False, cv=5)\n",
    "gsearch2.fit(train,target)"
   ]
  },
  {
   "cell_type": "code",
   "execution_count": 260,
   "metadata": {
    "collapsed": false
   },
   "outputs": [
    {
     "data": {
      "text/plain": [
       "([mean: -24048.72327, std: 1970.60462, params: {'max_depth': 8, 'min_samples_split': 1000},\n",
       "  mean: -23896.48413, std: 2152.88770, params: {'max_depth': 8, 'min_samples_split': 1100},\n",
       "  mean: -24135.22723, std: 1989.33872, params: {'max_depth': 8, 'min_samples_split': 1200},\n",
       "  mean: -23649.64520, std: 1881.81611, params: {'max_depth': 7, 'min_samples_split': 1000},\n",
       "  mean: -23504.37671, std: 1755.84913, params: {'max_depth': 7, 'min_samples_split': 1100},\n",
       "  mean: -23753.49669, std: 1702.90985, params: {'max_depth': 7, 'min_samples_split': 1200},\n",
       "  mean: -24466.05153, std: 2000.71401, params: {'max_depth': 9, 'min_samples_split': 1000},\n",
       "  mean: -24126.01917, std: 2147.51052, params: {'max_depth': 9, 'min_samples_split': 1100},\n",
       "  mean: -24067.34987, std: 2369.79351, params: {'max_depth': 9, 'min_samples_split': 1200}],\n",
       " {'max_depth': 7, 'min_samples_split': 1100},\n",
       " -23504.376714328278)"
      ]
     },
     "execution_count": 260,
     "metadata": {},
     "output_type": "execute_result"
    }
   ],
   "source": [
    "gsearch2.grid_scores_, gsearch2.best_params_, gsearch2.best_score_"
   ]
  },
  {
   "cell_type": "code",
   "execution_count": 258,
   "metadata": {
    "collapsed": false
   },
   "outputs": [
    {
     "data": {
      "text/plain": [
       "([mean: -23240.16634, std: 1925.25679, params: {'min_samples_leaf': 550},\n",
       "  mean: -22865.11293, std: 1637.03031, params: {'min_samples_leaf': 600},\n",
       "  mean: -23262.88498, std: 1535.47492, params: {'min_samples_leaf': 650}],\n",
       " {'min_samples_leaf': 600},\n",
       " -22865.112928975112)"
      ]
     },
     "execution_count": 258,
     "metadata": {},
     "output_type": "execute_result"
    }
   ],
   "source": [
    "param_test3 = [{'min_samples_leaf':[550,600,650]}]\n",
    "gsearch3 = GridSearchCV(estimator = GradientBoostingRegressor(learning_rate=1, n_estimators=120,max_depth=7,min_samples_split=1100,max_features='sqrt', subsample=0.8, random_state=10), \n",
    "param_grid = param_test3, scoring='mean_squared_error',n_jobs=4,iid=False, cv=5)\n",
    "gsearch3.fit(train,target)\n",
    "gsearch3.grid_scores_, gsearch3.best_params_, gsearch3.best_score_"
   ]
  },
  {
   "cell_type": "code",
   "execution_count": 263,
   "metadata": {
    "collapsed": false
   },
   "outputs": [
    {
     "data": {
      "text/plain": [
       "([mean: -22957.61461, std: 1510.21801, params: {'max_features': 7},\n",
       "  mean: -22595.19648, std: 1672.37661, params: {'max_features': 9},\n",
       "  mean: -22059.88306, std: 1662.80220, params: {'max_features': 11},\n",
       "  mean: -22231.97625, std: 1460.53397, params: {'max_features': 13},\n",
       "  mean: -21917.74805, std: 1768.18079, params: {'max_features': 15},\n",
       "  mean: -21533.59915, std: 1796.32015, params: {'max_features': 17},\n",
       "  mean: -21671.56226, std: 1631.55423, params: {'max_features': 19}],\n",
       " {'max_features': 17},\n",
       " -21533.599153197119)"
      ]
     },
     "execution_count": 263,
     "metadata": {},
     "output_type": "execute_result"
    }
   ],
   "source": [
    "param_test4 = [{'max_features':[7,9,11,13,15,17,19]}]\n",
    "gsearch4 = GridSearchCV(estimator = GradientBoostingRegressor(learning_rate=1, n_estimators=120,max_depth=7,min_samples_split=1100, min_samples_leaf=600, subsample=0.8, random_state=10),\n",
    "param_grid = param_test4, scoring='mean_squared_error',n_jobs=4,iid=False, cv=5)\n",
    "gsearch4.fit(train,target)\n",
    "gsearch4.grid_scores_, gsearch4.best_params_, gsearch4.best_score_"
   ]
  },
  {
   "cell_type": "code",
   "execution_count": 268,
   "metadata": {
    "collapsed": false
   },
   "outputs": [
    {
     "data": {
      "text/plain": [
       "([mean: -22132.62570, std: 1784.98408, params: {'subsample': 0.95}],\n",
       " {'subsample': 0.95},\n",
       " -22132.625699535052)"
      ]
     },
     "execution_count": 268,
     "metadata": {},
     "output_type": "execute_result"
    }
   ],
   "source": [
    "param_test5 = [{'subsample':[.9]}]\n",
    "gsearch5 = GridSearchCV(estimator = GradientBoostingRegressor(learning_rate=1, n_estimators=120,max_depth=7,min_samples_split=1100, min_samples_leaf=600, random_state=10,max_features=7),\n",
    "param_grid = param_test5, scoring='mean_squared_error',n_jobs=4,iid=False, cv=5)\n",
    "gsearch5.fit(train,target)\n",
    "gsearch5.grid_scores_, gsearch5.best_params_, gsearch5.best_score_"
   ]
  },
  {
   "cell_type": "code",
   "execution_count": 278,
   "metadata": {
    "collapsed": false
   },
   "outputs": [],
   "source": [
    "gbm_tuned_2 = GradientBoostingRegressor(learning_rate=0.1, n_estimators=1500,max_depth=9, min_samples_split=1100,min_samples_leaf=600, subsample=1, random_state=10, max_features=7)\n",
    "modelfit(gbm_tuned_2, train, features)"
   ]
  },
  {
   "cell_type": "code",
   "execution_count": 279,
   "metadata": {
    "collapsed": false
   },
   "outputs": [
    {
     "data": {
      "text/plain": [
       "GradientBoostingRegressor(alpha=0.9, init=None, learning_rate=0.1, loss='ls',\n",
       "             max_depth=9, max_features=7, max_leaf_nodes=None,\n",
       "             min_samples_leaf=600, min_samples_split=1100,\n",
       "             min_weight_fraction_leaf=0.0, n_estimators=1500,\n",
       "             presort='auto', random_state=10, subsample=1, verbose=0,\n",
       "             warm_start=False)"
      ]
     },
     "execution_count": 279,
     "metadata": {},
     "output_type": "execute_result"
    }
   ],
   "source": [
    "gbm_tuned_2.fit(train,target)"
   ]
  },
  {
   "cell_type": "code",
   "execution_count": 287,
   "metadata": {
    "collapsed": false
   },
   "outputs": [],
   "source": [
    "prediction = Series(gbm_tuned_2.predict(test),name=\"Footfall\")\n",
    "out = pd.concat([data.loc[data[\"Train\"]==False,\"ID\"].reset_index(drop=True),prediction],axis=1)\n",
    "out.to_csv(\"output.csv\")"
   ]
  },
  {
   "cell_type": "code",
   "execution_count": 282,
   "metadata": {
    "collapsed": false
   },
   "outputs": [
    {
     "data": {
      "text/plain": [
       "array([ 1096.6195426 ,  1071.27154742,  1064.02166035, ...,  1011.04204909,\n",
       "         949.26236066,  1122.43767416])"
      ]
     },
     "execution_count": 282,
     "metadata": {},
     "output_type": "execute_result"
    }
   ],
   "source": [
    "gbm0.predict(test)"
   ]
  },
  {
   "cell_type": "code",
   "execution_count": 133,
   "metadata": {
    "collapsed": false
   },
   "outputs": [],
   "source": [
    "X_train, X_test, y_train, y_test = train_test_split(train2[features],train2.Footfall,test_size=.3)\n",
    "#X_data = pd.concat([X_train,y_train],axis=1)\n",
    "#X_train[\"Mean_Park_Month\"]=X_data.groupby([\"Park_ID\",\"Month\"]).transform(lambda x: x.mean()).Footfall\n",
    "#X_test[\"Mean_Park_Month\"] = X_data.groupby([\"Park_ID\",\"Month\"]).transform(lambda x: x.mean()).Footfall\n",
    "X_train = DataFrame(normalize(X_train),columns=features)\n",
    "X_test = DataFrame(normalize(X_test),columns=features)"
   ]
  },
  {
   "cell_type": "code",
   "execution_count": 134,
   "metadata": {
    "collapsed": false
   },
   "outputs": [],
   "source": [
    "X_train.reset_index(drop=True,inplace=True)\n",
    "X_test.reset_index(drop=True,inplace=True)\n",
    "y_train.reset_index(drop=True,inplace=True)\n",
    "y_test.reset_index(drop=True,inplace=True)"
   ]
  },
  {
   "cell_type": "code",
   "execution_count": 135,
   "metadata": {
    "collapsed": false
   },
   "outputs": [],
   "source": [
    "cv = KFold(len(X_train),n_folds=10,shuffle=True)"
   ]
  },
  {
   "cell_type": "code",
   "execution_count": 140,
   "metadata": {
    "collapsed": false
   },
   "outputs": [],
   "source": [
    "model = RandomForestRegressor(n_estimators=100,min_samples_split=100,min_samples_leaf=50)"
   ]
  },
  {
   "cell_type": "code",
   "execution_count": 331,
   "metadata": {
    "collapsed": false
   },
   "outputs": [],
   "source": [
    "results=[]\n",
    "for traincv,testcv in cv:\n",
    "    probas = model.fit(X_train.ix[traincv],y_train.ix[traincv]).predict(X_train.ix[testcv])\n",
    "    results.append(mean_squared_error(probas,y_train.ix[testcv]))\n",
    "                       "
   ]
  },
  {
   "cell_type": "code",
   "execution_count": 64,
   "metadata": {
    "collapsed": false
   },
   "outputs": [],
   "source": [
    "from sklearn.linear_model import LinearRegression"
   ]
  },
  {
   "cell_type": "code",
   "execution_count": 69,
   "metadata": {
    "collapsed": true
   },
   "outputs": [],
   "source": [
    "lr = LinearRegression()"
   ]
  },
  {
   "cell_type": "code",
   "execution_count": 70,
   "metadata": {
    "collapsed": false
   },
   "outputs": [
    {
     "data": {
      "text/plain": [
       "LinearRegression(copy_X=True, fit_intercept=True, n_jobs=1, normalize=False)"
      ]
     },
     "execution_count": 70,
     "metadata": {},
     "output_type": "execute_result"
    }
   ],
   "source": [
    "lr.fit(X_train,y_train)"
   ]
  },
  {
   "cell_type": "code",
   "execution_count": 73,
   "metadata": {
    "collapsed": false
   },
   "outputs": [
    {
     "data": {
      "text/plain": [
       "Mean_Park_Month                 1.000000e+00\n",
       "day_5                           2.540360e-09\n",
       "day_6                           2.349156e-09\n",
       "weekday_1                       2.273210e-09\n",
       "month_9                         1.627653e-09\n",
       "season_Summer                   1.522475e-09\n",
       "month_10                        1.277765e-09\n",
       "park_34                         1.144080e-09\n",
       "loc_3                           1.074015e-09\n",
       "park_15                         1.064514e-09\n",
       "park_24                         1.060617e-09\n",
       "season_Spring                   1.021760e-09\n",
       "park_16                         1.009040e-09\n",
       "month_11                        9.740780e-10\n",
       "loc_2                           9.356544e-10\n",
       "loc_4                           8.748065e-10\n",
       "month_7                         7.907109e-10\n",
       "season_Winter                   7.389953e-10\n",
       "Rain                            7.285751e-10\n",
       "Pressure/Moisture               7.155588e-10\n",
       "month_5                         6.261183e-10\n",
       "park_14                         6.051807e-10\n",
       "Average_Atmospheric_Pressure    5.224881e-10\n",
       "Pressure/Wind                   4.123769e-10\n",
       "month_8                         4.000503e-10\n",
       "month_4                         3.585539e-10\n",
       "month_6                         3.317140e-10\n",
       "park_36                         2.825614e-10\n",
       "park_32                         2.666944e-10\n",
       "park_13                         2.520823e-10\n",
       "                                    ...     \n",
       "wind_N                          2.194768e-12\n",
       "year_2005                       2.895132e-24\n",
       "year_2003                       1.654361e-24\n",
       "year_2002                      -2.481542e-24\n",
       "year_2004                      -4.963084e-24\n",
       "Poll/Moisture                  -1.602227e-12\n",
       "day_2                          -2.995325e-12\n",
       "Min_Ambient_Pollution          -4.007821e-12\n",
       "park_39                        -4.806706e-12\n",
       "Pollution_Range                -4.961861e-12\n",
       "Direction_Of_Wind              -6.809579e-12\n",
       "Max_Ambient_Pollution          -8.969728e-12\n",
       "Pressure_Range                 -9.340832e-12\n",
       "park_25                        -1.483457e-11\n",
       "park_37                        -1.600131e-11\n",
       "Max_Moisture_In_Park           -1.641216e-11\n",
       "Var1                           -2.079595e-11\n",
       "Moisture_Range                 -2.309791e-11\n",
       "Max_Breeze_Speed               -4.847492e-11\n",
       "Min_Breeze_Speed               -5.264789e-11\n",
       "park_20                        -6.081865e-11\n",
       "wind_S                         -8.835115e-11\n",
       "year_2000                      -9.567212e-11\n",
       "park_30                        -1.109551e-10\n",
       "Poll/Moisture_diff             -1.113682e-10\n",
       "park_27                        -1.138880e-10\n",
       "Average_Moisture_In_Park       -1.492575e-10\n",
       "park_22                        -1.719083e-10\n",
       "month_12                       -1.858095e-10\n",
       "Temperature                    -6.257793e-10\n",
       "dtype: float64"
      ]
     },
     "execution_count": 73,
     "metadata": {},
     "output_type": "execute_result"
    }
   ],
   "source": [
    "Series(lr.coef_,index=X_train.columns).sort_values(ascending=False)"
   ]
  },
  {
   "cell_type": "code",
   "execution_count": 200,
   "metadata": {
    "collapsed": true
   },
   "outputs": [],
   "source": [
    "from sklearn.preprocessing import scale"
   ]
  },
  {
   "cell_type": "code",
   "execution_count": 220,
   "metadata": {
    "collapsed": false
   },
   "outputs": [
    {
     "data": {
      "text/plain": [
       "100"
      ]
     },
     "execution_count": 220,
     "metadata": {},
     "output_type": "execute_result"
    }
   ],
   "source": [
    "len(features)"
   ]
  },
  {
   "cell_type": "code",
   "execution_count": 272,
   "metadata": {
    "collapsed": false
   },
   "outputs": [
    {
     "data": {
      "text/plain": [
       "Distance    1\n",
       "Length      0\n",
       "dtype: int64"
      ]
     },
     "execution_count": 272,
     "metadata": {},
     "output_type": "execute_result"
    }
   ],
   "source": [
    "pd.isnull(df.set_value(0,\"Distance\",np.nan)).sum()"
   ]
  },
  {
   "cell_type": "code",
   "execution_count": 303,
   "metadata": {
    "collapsed": false
   },
   "outputs": [],
   "source": [
    "assert not np.any(np.isnan(y_train))\n",
    "assert np.all(np.isfinite(y_train))\n",
    "assert np.all(y_train <= np.finfo('float32').max)\n",
    "assert np.all(y_train >= np.finfo('float32').min)"
   ]
  },
  {
   "cell_type": "code",
   "execution_count": 186,
   "metadata": {
    "collapsed": true
   },
   "outputs": [],
   "source": [
    "del X_train[\"Mean_Park_Month\"]"
   ]
  },
  {
   "cell_type": "code",
   "execution_count": 187,
   "metadata": {
    "collapsed": false
   },
   "outputs": [
    {
     "data": {
      "text/plain": [
       "RandomForestRegressor(bootstrap=True, criterion='mse', max_depth=None,\n",
       "           max_features='auto', max_leaf_nodes=None, min_samples_leaf=50,\n",
       "           min_samples_split=100, min_weight_fraction_leaf=0.0,\n",
       "           n_estimators=100, n_jobs=1, oob_score=False, random_state=None,\n",
       "           verbose=0, warm_start=False)"
      ]
     },
     "execution_count": 187,
     "metadata": {},
     "output_type": "execute_result"
    }
   ],
   "source": [
    "model.fit(X_train,y_train)"
   ]
  },
  {
   "cell_type": "code",
   "execution_count": 142,
   "metadata": {
    "collapsed": false
   },
   "outputs": [
    {
     "data": {
      "text/plain": [
       "150.40074750138882"
      ]
     },
     "execution_count": 142,
     "metadata": {},
     "output_type": "execute_result"
    }
   ],
   "source": [
    "np.sqrt(sum(((Series(model.predict(X_test),name=\"Footfall\")-y_test)**2)/len(y_test)))"
   ]
  },
  {
   "cell_type": "code",
   "execution_count": 190,
   "metadata": {
    "collapsed": false
   },
   "outputs": [],
   "source": [
    "#del test2[\"Mean_Park_Month\"]\n",
    "features.remove(\"Mean_Park_Month\")\n",
    "Y = Series(model.predict(DataFrame(normalize(test2[features]),columns=features)),name=\"Footfall\")"
   ]
  },
  {
   "cell_type": "code",
   "execution_count": 191,
   "metadata": {
    "collapsed": false
   },
   "outputs": [],
   "source": [
    "out = pd.concat([test[\"ID\"].reset_index(drop=True),Y],axis=1)"
   ]
  },
  {
   "cell_type": "code",
   "execution_count": 192,
   "metadata": {
    "collapsed": true
   },
   "outputs": [],
   "source": [
    "out.to_csv(\"rf3.csv\")"
   ]
  },
  {
   "cell_type": "code",
   "execution_count": 184,
   "metadata": {
    "collapsed": false
   },
   "outputs": [
    {
     "data": {
      "text/html": [
       "<div>\n",
       "<table border=\"1\" class=\"dataframe\">\n",
       "  <thead>\n",
       "    <tr style=\"text-align: right;\">\n",
       "      <th></th>\n",
       "      <th>ID</th>\n",
       "      <th>Footfall</th>\n",
       "    </tr>\n",
       "  </thead>\n",
       "  <tbody>\n",
       "    <tr>\n",
       "      <th>0</th>\n",
       "      <td>3725712</td>\n",
       "      <td>1114.161770</td>\n",
       "    </tr>\n",
       "    <tr>\n",
       "      <th>1</th>\n",
       "      <td>3725812</td>\n",
       "      <td>1116.893837</td>\n",
       "    </tr>\n",
       "    <tr>\n",
       "      <th>2</th>\n",
       "      <td>3725912</td>\n",
       "      <td>1076.406399</td>\n",
       "    </tr>\n",
       "    <tr>\n",
       "      <th>3</th>\n",
       "      <td>3726012</td>\n",
       "      <td>1075.109435</td>\n",
       "    </tr>\n",
       "    <tr>\n",
       "      <th>4</th>\n",
       "      <td>3726112</td>\n",
       "      <td>1187.789280</td>\n",
       "    </tr>\n",
       "    <tr>\n",
       "      <th>5</th>\n",
       "      <td>3726212</td>\n",
       "      <td>1250.447323</td>\n",
       "    </tr>\n",
       "    <tr>\n",
       "      <th>6</th>\n",
       "      <td>3726312</td>\n",
       "      <td>1249.225618</td>\n",
       "    </tr>\n",
       "    <tr>\n",
       "      <th>7</th>\n",
       "      <td>3726412</td>\n",
       "      <td>1251.500306</td>\n",
       "    </tr>\n",
       "    <tr>\n",
       "      <th>8</th>\n",
       "      <td>3726512</td>\n",
       "      <td>1283.727431</td>\n",
       "    </tr>\n",
       "    <tr>\n",
       "      <th>9</th>\n",
       "      <td>3726612</td>\n",
       "      <td>1221.315207</td>\n",
       "    </tr>\n",
       "    <tr>\n",
       "      <th>10</th>\n",
       "      <td>3726712</td>\n",
       "      <td>1193.296889</td>\n",
       "    </tr>\n",
       "    <tr>\n",
       "      <th>11</th>\n",
       "      <td>3726812</td>\n",
       "      <td>1169.258575</td>\n",
       "    </tr>\n",
       "    <tr>\n",
       "      <th>12</th>\n",
       "      <td>3726912</td>\n",
       "      <td>1176.109153</td>\n",
       "    </tr>\n",
       "    <tr>\n",
       "      <th>13</th>\n",
       "      <td>3727012</td>\n",
       "      <td>936.651764</td>\n",
       "    </tr>\n",
       "    <tr>\n",
       "      <th>14</th>\n",
       "      <td>3727112</td>\n",
       "      <td>938.999301</td>\n",
       "    </tr>\n",
       "    <tr>\n",
       "      <th>15</th>\n",
       "      <td>3727212</td>\n",
       "      <td>941.408141</td>\n",
       "    </tr>\n",
       "    <tr>\n",
       "      <th>16</th>\n",
       "      <td>3727312</td>\n",
       "      <td>1065.351639</td>\n",
       "    </tr>\n",
       "    <tr>\n",
       "      <th>17</th>\n",
       "      <td>3727412</td>\n",
       "      <td>1040.452768</td>\n",
       "    </tr>\n",
       "    <tr>\n",
       "      <th>18</th>\n",
       "      <td>3727512</td>\n",
       "      <td>1140.247279</td>\n",
       "    </tr>\n",
       "    <tr>\n",
       "      <th>19</th>\n",
       "      <td>3727612</td>\n",
       "      <td>1045.971657</td>\n",
       "    </tr>\n",
       "    <tr>\n",
       "      <th>20</th>\n",
       "      <td>3727712</td>\n",
       "      <td>1097.624615</td>\n",
       "    </tr>\n",
       "    <tr>\n",
       "      <th>21</th>\n",
       "      <td>3727812</td>\n",
       "      <td>1174.910042</td>\n",
       "    </tr>\n",
       "    <tr>\n",
       "      <th>22</th>\n",
       "      <td>3727912</td>\n",
       "      <td>1112.641252</td>\n",
       "    </tr>\n",
       "    <tr>\n",
       "      <th>23</th>\n",
       "      <td>3728012</td>\n",
       "      <td>980.824547</td>\n",
       "    </tr>\n",
       "    <tr>\n",
       "      <th>24</th>\n",
       "      <td>3728112</td>\n",
       "      <td>1066.874429</td>\n",
       "    </tr>\n",
       "    <tr>\n",
       "      <th>25</th>\n",
       "      <td>3728212</td>\n",
       "      <td>1068.918013</td>\n",
       "    </tr>\n",
       "    <tr>\n",
       "      <th>26</th>\n",
       "      <td>3728312</td>\n",
       "      <td>864.085571</td>\n",
       "    </tr>\n",
       "    <tr>\n",
       "      <th>27</th>\n",
       "      <td>3728412</td>\n",
       "      <td>835.083991</td>\n",
       "    </tr>\n",
       "    <tr>\n",
       "      <th>28</th>\n",
       "      <td>3728512</td>\n",
       "      <td>921.760778</td>\n",
       "    </tr>\n",
       "    <tr>\n",
       "      <th>29</th>\n",
       "      <td>3728612</td>\n",
       "      <td>840.827395</td>\n",
       "    </tr>\n",
       "    <tr>\n",
       "      <th>...</th>\n",
       "      <td>...</td>\n",
       "      <td>...</td>\n",
       "    </tr>\n",
       "    <tr>\n",
       "      <th>39390</th>\n",
       "      <td>3868739</td>\n",
       "      <td>1164.133030</td>\n",
       "    </tr>\n",
       "    <tr>\n",
       "      <th>39391</th>\n",
       "      <td>3868839</td>\n",
       "      <td>972.679507</td>\n",
       "    </tr>\n",
       "    <tr>\n",
       "      <th>39392</th>\n",
       "      <td>3868939</td>\n",
       "      <td>1149.014301</td>\n",
       "    </tr>\n",
       "    <tr>\n",
       "      <th>39393</th>\n",
       "      <td>3869039</td>\n",
       "      <td>1248.532613</td>\n",
       "    </tr>\n",
       "    <tr>\n",
       "      <th>39394</th>\n",
       "      <td>3869139</td>\n",
       "      <td>1295.961009</td>\n",
       "    </tr>\n",
       "    <tr>\n",
       "      <th>39395</th>\n",
       "      <td>3869239</td>\n",
       "      <td>1303.913466</td>\n",
       "    </tr>\n",
       "    <tr>\n",
       "      <th>39396</th>\n",
       "      <td>3869339</td>\n",
       "      <td>1286.247585</td>\n",
       "    </tr>\n",
       "    <tr>\n",
       "      <th>39397</th>\n",
       "      <td>3869439</td>\n",
       "      <td>1200.327908</td>\n",
       "    </tr>\n",
       "    <tr>\n",
       "      <th>39398</th>\n",
       "      <td>3869539</td>\n",
       "      <td>1281.351614</td>\n",
       "    </tr>\n",
       "    <tr>\n",
       "      <th>39399</th>\n",
       "      <td>3869639</td>\n",
       "      <td>1287.934089</td>\n",
       "    </tr>\n",
       "    <tr>\n",
       "      <th>39400</th>\n",
       "      <td>3869739</td>\n",
       "      <td>1053.434445</td>\n",
       "    </tr>\n",
       "    <tr>\n",
       "      <th>39401</th>\n",
       "      <td>3869839</td>\n",
       "      <td>952.885002</td>\n",
       "    </tr>\n",
       "    <tr>\n",
       "      <th>39402</th>\n",
       "      <td>3869939</td>\n",
       "      <td>887.714304</td>\n",
       "    </tr>\n",
       "    <tr>\n",
       "      <th>39403</th>\n",
       "      <td>3870039</td>\n",
       "      <td>824.493850</td>\n",
       "    </tr>\n",
       "    <tr>\n",
       "      <th>39404</th>\n",
       "      <td>3870139</td>\n",
       "      <td>1096.645884</td>\n",
       "    </tr>\n",
       "    <tr>\n",
       "      <th>39405</th>\n",
       "      <td>3870239</td>\n",
       "      <td>1025.650738</td>\n",
       "    </tr>\n",
       "    <tr>\n",
       "      <th>39406</th>\n",
       "      <td>3870339</td>\n",
       "      <td>1086.799963</td>\n",
       "    </tr>\n",
       "    <tr>\n",
       "      <th>39407</th>\n",
       "      <td>3870439</td>\n",
       "      <td>999.877106</td>\n",
       "    </tr>\n",
       "    <tr>\n",
       "      <th>39408</th>\n",
       "      <td>3870539</td>\n",
       "      <td>1106.393273</td>\n",
       "    </tr>\n",
       "    <tr>\n",
       "      <th>39409</th>\n",
       "      <td>3870639</td>\n",
       "      <td>1103.679098</td>\n",
       "    </tr>\n",
       "    <tr>\n",
       "      <th>39410</th>\n",
       "      <td>3870739</td>\n",
       "      <td>1112.730021</td>\n",
       "    </tr>\n",
       "    <tr>\n",
       "      <th>39411</th>\n",
       "      <td>3870839</td>\n",
       "      <td>1029.649316</td>\n",
       "    </tr>\n",
       "    <tr>\n",
       "      <th>39412</th>\n",
       "      <td>3870939</td>\n",
       "      <td>1115.051645</td>\n",
       "    </tr>\n",
       "    <tr>\n",
       "      <th>39413</th>\n",
       "      <td>3871039</td>\n",
       "      <td>1077.654933</td>\n",
       "    </tr>\n",
       "    <tr>\n",
       "      <th>39414</th>\n",
       "      <td>3871139</td>\n",
       "      <td>1149.051822</td>\n",
       "    </tr>\n",
       "    <tr>\n",
       "      <th>39415</th>\n",
       "      <td>3871239</td>\n",
       "      <td>1054.023693</td>\n",
       "    </tr>\n",
       "    <tr>\n",
       "      <th>39416</th>\n",
       "      <td>3871339</td>\n",
       "      <td>920.951425</td>\n",
       "    </tr>\n",
       "    <tr>\n",
       "      <th>39417</th>\n",
       "      <td>3871439</td>\n",
       "      <td>931.597238</td>\n",
       "    </tr>\n",
       "    <tr>\n",
       "      <th>39418</th>\n",
       "      <td>3871539</td>\n",
       "      <td>833.996051</td>\n",
       "    </tr>\n",
       "    <tr>\n",
       "      <th>39419</th>\n",
       "      <td>3871639</td>\n",
       "      <td>1086.256963</td>\n",
       "    </tr>\n",
       "  </tbody>\n",
       "</table>\n",
       "<p>39420 rows × 2 columns</p>\n",
       "</div>"
      ],
      "text/plain": [
       "            ID     Footfall\n",
       "0      3725712  1114.161770\n",
       "1      3725812  1116.893837\n",
       "2      3725912  1076.406399\n",
       "3      3726012  1075.109435\n",
       "4      3726112  1187.789280\n",
       "5      3726212  1250.447323\n",
       "6      3726312  1249.225618\n",
       "7      3726412  1251.500306\n",
       "8      3726512  1283.727431\n",
       "9      3726612  1221.315207\n",
       "10     3726712  1193.296889\n",
       "11     3726812  1169.258575\n",
       "12     3726912  1176.109153\n",
       "13     3727012   936.651764\n",
       "14     3727112   938.999301\n",
       "15     3727212   941.408141\n",
       "16     3727312  1065.351639\n",
       "17     3727412  1040.452768\n",
       "18     3727512  1140.247279\n",
       "19     3727612  1045.971657\n",
       "20     3727712  1097.624615\n",
       "21     3727812  1174.910042\n",
       "22     3727912  1112.641252\n",
       "23     3728012   980.824547\n",
       "24     3728112  1066.874429\n",
       "25     3728212  1068.918013\n",
       "26     3728312   864.085571\n",
       "27     3728412   835.083991\n",
       "28     3728512   921.760778\n",
       "29     3728612   840.827395\n",
       "...        ...          ...\n",
       "39390  3868739  1164.133030\n",
       "39391  3868839   972.679507\n",
       "39392  3868939  1149.014301\n",
       "39393  3869039  1248.532613\n",
       "39394  3869139  1295.961009\n",
       "39395  3869239  1303.913466\n",
       "39396  3869339  1286.247585\n",
       "39397  3869439  1200.327908\n",
       "39398  3869539  1281.351614\n",
       "39399  3869639  1287.934089\n",
       "39400  3869739  1053.434445\n",
       "39401  3869839   952.885002\n",
       "39402  3869939   887.714304\n",
       "39403  3870039   824.493850\n",
       "39404  3870139  1096.645884\n",
       "39405  3870239  1025.650738\n",
       "39406  3870339  1086.799963\n",
       "39407  3870439   999.877106\n",
       "39408  3870539  1106.393273\n",
       "39409  3870639  1103.679098\n",
       "39410  3870739  1112.730021\n",
       "39411  3870839  1029.649316\n",
       "39412  3870939  1115.051645\n",
       "39413  3871039  1077.654933\n",
       "39414  3871139  1149.051822\n",
       "39415  3871239  1054.023693\n",
       "39416  3871339   920.951425\n",
       "39417  3871439   931.597238\n",
       "39418  3871539   833.996051\n",
       "39419  3871639  1086.256963\n",
       "\n",
       "[39420 rows x 2 columns]"
      ]
     },
     "execution_count": 184,
     "metadata": {},
     "output_type": "execute_result"
    }
   ],
   "source": [
    "out"
   ]
  },
  {
   "cell_type": "code",
   "execution_count": 143,
   "metadata": {
    "collapsed": false
   },
   "outputs": [
    {
     "data": {
      "text/plain": [
       "Mean_Park_Month                 0.430897\n",
       "Moisture_Range                  0.108458\n",
       "Direction_Of_Wind               0.079608\n",
       "Min_Moisture_In_Park            0.046023\n",
       "Pressure/Moisture               0.032158\n",
       "Max_Ambient_Pollution           0.030920\n",
       "Max_Atmospheric_Pressure        0.025785\n",
       "Temperature                     0.019587\n",
       "Var1                            0.017692\n",
       "Average_Moisture_In_Park        0.016952\n",
       "Min_Breeze_Speed                0.016949\n",
       "Speed_Range                     0.016483\n",
       "Average_Atmospheric_Pressure    0.014254\n",
       "Max_Moisture_In_Park            0.010914\n",
       "Min_Ambient_Pollution           0.008856\n",
       "Min_Atmospheric_Pressure        0.007857\n",
       "year_2000                       0.007771\n",
       "Pressure/Wind                   0.007490\n",
       "Pollution_Range                 0.007433\n",
       "Poll/Moisture                   0.007239\n",
       "Pressure_Range                  0.006145\n",
       "Max_Breeze_Speed                0.005493\n",
       "wind_SE                         0.005375\n",
       "year_1996                       0.004919\n",
       "month_3                         0.004568\n",
       "Average_Breeze_Speed            0.004479\n",
       "Rain                            0.004365\n",
       "wind_NE                         0.004065\n",
       "year_1993                       0.003637\n",
       "year_1995                       0.003614\n",
       "                                  ...   \n",
       "park_33                         0.000000\n",
       "park_28                         0.000000\n",
       "park_29                         0.000000\n",
       "park_30                         0.000000\n",
       "park_31                         0.000000\n",
       "park_32                         0.000000\n",
       "park_35                         0.000000\n",
       "park_34                         0.000000\n",
       "park_26                         0.000000\n",
       "park_36                         0.000000\n",
       "park_37                         0.000000\n",
       "park_38                         0.000000\n",
       "park_39                         0.000000\n",
       "park_27                         0.000000\n",
       "year_2003                       0.000000\n",
       "park_25                         0.000000\n",
       "park_24                         0.000000\n",
       "park_23                         0.000000\n",
       "park_22                         0.000000\n",
       "year_2002                       0.000000\n",
       "park_20                         0.000000\n",
       "park_19                         0.000000\n",
       "park_18                         0.000000\n",
       "park_17                         0.000000\n",
       "park_16                         0.000000\n",
       "park_15                         0.000000\n",
       "park_13                         0.000000\n",
       "year_2005                       0.000000\n",
       "year_2004                       0.000000\n",
       "park_21                         0.000000\n",
       "dtype: float64"
      ]
     },
     "execution_count": 143,
     "metadata": {},
     "output_type": "execute_result"
    }
   ],
   "source": [
    "Series(model.feature_importances_,index=X_train.columns).sort_values(ascending=False)"
   ]
  },
  {
   "cell_type": "code",
   "execution_count": 48,
   "metadata": {
    "collapsed": false
   },
   "outputs": [],
   "source": [
    "features = list(Series(model.feature_importances_,index=X_train.columns)[Series(model.feature_importances_,index=X_train.columns).sort_values(ascending=False)>0].index)"
   ]
  },
  {
   "cell_type": "code",
   "execution_count": 54,
   "metadata": {
    "collapsed": false
   },
   "outputs": [],
   "source": [
    "features.remove(\"loc_3\")\n",
    "features.remove(\"season_Spring\")\n",
    "features.remove(\"season_Winter\")\n",
    "features.remove(\"weekday_1\")\n",
    "features.remove(\"wind_NE\")\n",
    "features.remove(\"Moisture_Range\")\n",
    "features.remove(\"Pollution_Range\")\n",
    "features.remove(\"Speed_Range\")\n",
    "features.remove(\"Pressure_Range\")\n",
    "features.remove(\"Mean_Park_Month\")"
   ]
  },
  {
   "cell_type": "code",
   "execution_count": 50,
   "metadata": {
    "collapsed": false
   },
   "outputs": [],
   "source": [
    "features.extend([\"Location_Type\",\"Season\",\"Weekday\",\"Wind_Origination\"])"
   ]
  },
  {
   "cell_type": "code",
   "execution_count": 59,
   "metadata": {
    "collapsed": true
   },
   "outputs": [],
   "source": [
    "'''\n",
    "#Binning:\n",
    "def binning(col, cut_points, labels=None):\n",
    "  #Define min and max values:\n",
    "  minval = col.min()\n",
    "  maxval = col.max()\n",
    "\n",
    "  #create list by adding min and max to cut_points\n",
    "  break_points = [minval] + cut_points + [maxval]\n",
    "\n",
    "  #if no labels provided, use default labels 0 ... (n-1)\n",
    "  if not labels:\n",
    "    labels = range(len(cut_points)+1)\n",
    "\n",
    "  #Binning using cut function of pandas\n",
    "  colBin = pd.cut(col,bins=break_points,labels=labels,include_lowest=True)\n",
    "  return colBin\n",
    "\n",
    "#Binning age:\n",
    "cut_points = [45,135,225,315]\n",
    "labels = [\"W\",\"N\",\"E\",\"S\",\"W2\"]\n",
    "data[\"Wind_Origination\"] = binning(data[\"Direction_Of_Wind\"], cut_points, labels)\n",
    "#print(pd.value_counts(data[\"MaxSpeed_Bin\"], sort=False))\n",
    "data[\"Wind_Origination\"] = data[\"Wind_Origination\"].apply(lambda x: 'W' if x==\"W2\" else x)\n",
    "'''\n",
    "1"
   ]
  },
  {
   "cell_type": "code",
   "execution_count": null,
   "metadata": {
    "collapsed": true
   },
   "outputs": [],
   "source": [
    "from sklearn.ensemble import GradientBoostingRegressorgressor  #GBM algorithm\n",
    "from sklearn import cross_validation, metrics   #Additional scklearn functions\n",
    "from sklearn.grid_search import GridSearchCV   #Perforing grid search"
   ]
  },
  {
   "cell_type": "code",
   "execution_count": 274,
   "metadata": {
    "collapsed": false
   },
   "outputs": [
    {
     "ename": "NameError",
     "evalue": "name 'alg' is not defined",
     "output_type": "error",
     "traceback": [
      "\u001b[1;31m---------------------------------------------------------------------------\u001b[0m",
      "\u001b[1;31mNameError\u001b[0m                                 Traceback (most recent call last)",
      "\u001b[1;32m<ipython-input-274-9b7618096872>\u001b[0m in \u001b[0;36m<module>\u001b[1;34m()\u001b[0m\n\u001b[1;32m----> 1\u001b[1;33m \u001b[0malg\u001b[0m\u001b[1;33m\u001b[0m\u001b[0m\n\u001b[0m",
      "\u001b[1;31mNameError\u001b[0m: name 'alg' is not defined"
     ]
    }
   ],
   "source": []
  },
  {
   "cell_type": "code",
   "execution_count": 288,
   "metadata": {
    "collapsed": true
   },
   "outputs": [],
   "source": [
    "import pandas as pd\n",
    "import numpy as np \n",
    "from pandas import DataFrame,Series\n",
    "\n",
    "\n",
    "#read the files\n",
    "train = pd.read_csv(\"Train_xyqdbho.csv\")\n",
    "test = pd.read_csv(\"Test_pyI9Owa.csv\")\n",
    "\n",
    "#merging test and train datasets\n",
    "train[\"Train\"] = True\n",
    "test[\"Train\"] = False\n",
    "data=pd.concat([train,test],axis=0)\n",
    "\n",
    "#converting Date to datetime format\n",
    "data[\"Date\"] = data.Date.apply(lambda x:pd.to_datetime(x))\n",
    "data[\"Day\"] = data.Date.dt.weekday\n",
    "#weekday or weekend\n",
    "data[\"Weekday\"] = data[\"Day\"].apply(lambda x: 1 if x in range(0,5) else 0)\n",
    "data[\"Year\"] = data.Date.dt.year\n",
    "data[\"Month\"] = data.Date.dt.month\n",
    "\n",
    "\n",
    "#missing value treatment\n",
    "missing = list(pd.isnull(data).sum().loc[pd.isnull(data).sum()>0,].index)\n",
    "for i in missing:\n",
    "    data[i] = data.groupby(\"Date\").transform(lambda x: x.fillna(x.mean()))[i]\n",
    "\n",
    "\n",
    "\n",
    "#modelling\n",
    "month = pd.get_dummies(data[\"Month\"],drop_first=True,prefix=\"month\")\n",
    "weekday = pd.get_dummies(data[\"Weekday\"],drop_first=True,prefix=\"weekday\")\n",
    "loc = pd.get_dummies(data[\"Location_Type\"],drop_first=True,prefix=\"loc\")\n",
    "data2 = pd.concat([data,weekday,month,loc],axis=1)\n",
    "data2.drop([\"Day\",\"Weekday\",\"Location_Type\",\"Year\",\"Date\",\"ID\",\"Park_ID\",\"Month\",\"Train\"],inplace=True,axis=1)\n",
    "train2 = data2.loc[data[\"Train\"]==True,]\n",
    "test2 = data2.loc[data[\"Train\"]==False,]\n",
    "features = list(train2.columns)\n",
    "features.remove(\"Footfall\")\n",
    "train = train2[features]\n",
    "target = train2[\"Footfall\"]\n",
    "test = test2[features]\n",
    "\n",
    "from sklearn.ensemble import GradientBoostingRegressor\n",
    "gbm = GradientBoostingRegressor(learning_rate=0.1, n_estimators=1500,max_depth=9, min_samples_split=1100,min_samples_leaf=600, subsample=1, random_state=10, max_features=7)\n",
    "gbm.fit(train,target)\n",
    "prediction = Series(gbm.predict(test),name=\"Footfall\")\n",
    "out = pd.concat([data.loc[data[\"Train\"]==False,\"ID\"].reset_index(drop=True),prediction],axis=1)\n",
    "out.to_csv(\"outputs.csv\")"
   ]
  },
  {
   "cell_type": "code",
   "execution_count": null,
   "metadata": {
    "collapsed": true
   },
   "outputs": [],
   "source": []
  }
 ],
 "metadata": {
  "kernelspec": {
   "display_name": "Python 3",
   "language": "python",
   "name": "python3"
  },
  "language_info": {
   "codemirror_mode": {
    "name": "ipython",
    "version": 3
   },
   "file_extension": ".py",
   "mimetype": "text/x-python",
   "name": "python",
   "nbconvert_exporter": "python",
   "pygments_lexer": "ipython3",
   "version": "3.5.2"
  }
 },
 "nbformat": 4,
 "nbformat_minor": 0
}
