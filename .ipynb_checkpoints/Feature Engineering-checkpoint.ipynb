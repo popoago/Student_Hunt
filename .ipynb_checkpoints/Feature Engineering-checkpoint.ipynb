{
 "cells": [
  {
   "cell_type": "code",
   "execution_count": 1,
   "metadata": {
    "collapsed": true
   },
   "outputs": [],
   "source": [
    "import pandas as pd\n",
    "import numpy as np\n",
    "import seaborn as sns\n",
    "from pandas import DataFrame,Series\n",
    "%matplotlib inline"
   ]
  },
  {
   "cell_type": "code",
   "execution_count": 116,
   "metadata": {
    "collapsed": false
   },
   "outputs": [],
   "source": [
    "data = pd.read_csv(\"Train_new.csv\")"
   ]
  },
  {
   "cell_type": "code",
   "execution_count": 117,
   "metadata": {
    "collapsed": true
   },
   "outputs": [],
   "source": [
    "data[\"Var1\"] = data[\"Var1\"].apply(lambda x: 470 if x>47 else x)"
   ]
  },
  {
   "cell_type": "code",
   "execution_count": 17,
   "metadata": {
    "collapsed": false
   },
   "outputs": [
    {
     "data": {
      "text/plain": [
       "Index(['ID', 'Park_ID', 'Date', 'Direction_Of_Wind', 'Average_Breeze_Speed',\n",
       "       'Max_Breeze_Speed', 'Min_Breeze_Speed', 'Var1',\n",
       "       'Average_Atmospheric_Pressure', 'Max_Atmospheric_Pressure',\n",
       "       'Min_Atmospheric_Pressure', 'Min_Ambient_Pollution',\n",
       "       'Max_Ambient_Pollution', 'Average_Moisture_In_Park',\n",
       "       'Max_Moisture_In_Park', 'Min_Moisture_In_Park', 'Location_Type',\n",
       "       'Footfall', 'Day', 'Weekday', 'Year', 'Month'],\n",
       "      dtype='object')"
      ]
     },
     "execution_count": 17,
     "metadata": {},
     "output_type": "execute_result"
    }
   ],
   "source": [
    "data.columns"
   ]
  },
  {
   "cell_type": "code",
   "execution_count": 230,
   "metadata": {
    "collapsed": false
   },
   "outputs": [
    {
     "data": {
      "text/plain": [
       "ID                              0.005945\n",
       "Park_ID                         0.004938\n",
       "Direction_Of_Wind               0.098399\n",
       "Average_Breeze_Speed           -0.074982\n",
       "Max_Breeze_Speed               -0.038060\n",
       "Min_Breeze_Speed               -0.110378\n",
       "Var1                            0.059919\n",
       "Average_Atmospheric_Pressure   -0.057305\n",
       "Max_Atmospheric_Pressure       -0.111381\n",
       "Min_Atmospheric_Pressure       -0.007582\n",
       "Min_Ambient_Pollution           0.180966\n",
       "Max_Ambient_Pollution           0.390374\n",
       "Average_Moisture_In_Park       -0.391229\n",
       "Max_Moisture_In_Park           -0.096657\n",
       "Min_Moisture_In_Park           -0.438461\n",
       "Location_Type                   0.004230\n",
       "Footfall                        1.000000\n",
       "Day                             0.002836\n",
       "Weekday                         0.000136\n",
       "Year                           -0.010730\n",
       "Month                           0.054729\n",
       "Pro                             0.435940\n",
       "pro2                            0.144424\n",
       "Diff                            0.055075\n",
       "Diff_Max_Speed                  0.055075\n",
       "Diff_Min_Speed                  0.036145\n",
       "speed_Ratio                    -0.003921\n",
       "new                             0.038683\n",
       "Name: Footfall, dtype: float64"
      ]
     },
     "execution_count": 230,
     "metadata": {},
     "output_type": "execute_result"
    }
   ],
   "source": [
    "data.loc[data[\"Var1\"]<600,].corr()[\"Footfall\"]"
   ]
  },
  {
   "cell_type": "code",
   "execution_count": 129,
   "metadata": {
    "collapsed": true
   },
   "outputs": [],
   "source": [
    "data[\"Pro\"] = (data[\"Average_Atmospheric_Pressure\"]*data[\"Average_Moisture_In_Park\"])\n",
    "data[\"Pro\"] = data[\"Pro\"]/(data[\"Max_Atmospheric_Pressure\"]-data[\"Min_Atmospheric_Pressure\"]*(data[\"Max_Moisture_In_Park\"]*data[\"Min_Atmospheric_Pressure\"]))"
   ]
  },
  {
   "cell_type": "code",
   "execution_count": 136,
   "metadata": {
    "collapsed": false
   },
   "outputs": [],
   "source": [
    "data[\"pro2\"] = (data[\"Max_Breeze_Speed\"]-data[\"Min_Breeze_Speed\"])/data[\"Average_Moisture_In_Park\"]"
   ]
  },
  {
   "cell_type": "code",
   "execution_count": 219,
   "metadata": {
    "collapsed": false
   },
   "outputs": [],
   "source": [
    "data[\"Diff_Max_Speed\"]=0\n",
    "for i in range(1,data.shape[0]):\n",
    "    data.set_value(i,\"Diff_Max_Speed\",(data[\"Max_Breeze_Speed\"][i]-data[\"Max_Breeze_Speed\"][i-1]))"
   ]
  },
  {
   "cell_type": "code",
   "execution_count": null,
   "metadata": {
    "collapsed": true
   },
   "outputs": [],
   "source": []
  },
  {
   "cell_type": "code",
   "execution_count": 158,
   "metadata": {
    "collapsed": false
   },
   "outputs": [],
   "source": [
    "data[\"Diff_Min_Speed\"]=0\n",
    "for i in range(1,data.shape[0]):\n",
    "    data.set_value(i,\"Diff_Min_Speed\",(data[\"Min_Breeze_Speed\"][i]-data[\"Min_Breeze_Speed\"][i-1]))"
   ]
  },
  {
   "cell_type": "code",
   "execution_count": 217,
   "metadata": {
    "collapsed": false
   },
   "outputs": [
    {
     "data": {
      "text/plain": [
       "<seaborn.axisgrid.JointGrid at 0x7f55373ffdd8>"
      ]
     },
     "execution_count": 217,
     "metadata": {},
     "output_type": "execute_result"
    },
    {
     "data": {
      "image/png": "[encoded data removed]",
      "text/plain": [
       "<matplotlib.figure.Figure at 0x7f55374ddac8>"
      ]
     },
     "metadata": {},
     "output_type": "display_data"
    }
   ],
   "source": [
    "sns.jointplot(\"Diff_Max_Speed\",\"Footfall\",data=data)"
   ]
  },
  {
   "cell_type": "code",
   "execution_count": 229,
   "metadata": {
    "collapsed": false
   },
   "outputs": [],
   "source": [
    "data[\"new\"]=(data[\"Diff_Min_Speed\"])/data[\"Average_Moisture_In_Park\"]"
   ]
  },
  {
   "cell_type": "code",
   "execution_count": 185,
   "metadata": {
    "collapsed": false
   },
   "outputs": [],
   "source": [
    "#Binning:\n",
    "def binning(col, cut_points, labels=None):\n",
    "  #Define min and max values:\n",
    "  minval = col.min()\n",
    "  maxval = col.max()\n",
    "\n",
    "  #create list by adding min and max to cut_points\n",
    "  break_points = [minval] + cut_points + [maxval]\n",
    "\n",
    "  #if no labels provided, use default labels 0 ... (n-1)\n",
    "  if not labels:\n",
    "    labels = range(len(cut_points)+1)\n",
    "\n",
    "  #Binning using cut function of pandas\n",
    "  colBin = pd.cut(col,bins=break_points,labels=labels,include_lowest=True)\n",
    "  return colBin\n",
    "\n",
    "#Binning age:\n",
    "cut_points = [-25,40]\n",
    "labels = [\"low\",\"medium\",\"high\"]\n",
    "data[\"MaxSpeed_Bin\"] = binning(data[\"Diff_Max_Speed\"], cut_points, labels)\n",
    "#print(pd.value_counts(data[\"MaxSpeed_Bin\"], sort=False))"
   ]
  },
  {
   "cell_type": "code",
   "execution_count": 186,
   "metadata": {
    "collapsed": false
   },
   "outputs": [
    {
     "data": {
      "text/plain": [
       "MaxSpeed_Bin\n",
       "low       1149.780304\n",
       "medium    1208.398913\n",
       "high      1193.981318\n",
       "Name: Footfall, dtype: float64"
      ]
     },
     "execution_count": 186,
     "metadata": {},
     "output_type": "execute_result"
    }
   ],
   "source": [
    "data.groupby([\"MaxSpeed_Bin\"]).mean().Footfall"
   ]
  },
  {
   "cell_type": "code",
   "execution_count": 187,
   "metadata": {
    "collapsed": false
   },
   "outputs": [
    {
     "data": {
      "text/plain": [
       "medium    104915\n",
       "low         7697\n",
       "high        1927\n",
       "dtype: int64"
      ]
     },
     "execution_count": 187,
     "metadata": {},
     "output_type": "execute_result"
    }
   ],
   "source": [
    "data[\"MaxSpeed_Bin\"].value_counts()"
   ]
  },
  {
   "cell_type": "code",
   "execution_count": 211,
   "metadata": {
    "collapsed": false
   },
   "outputs": [],
   "source": [
    "data[\"speed_Ratio\"] = np.tan(data[\"Diff_Max_Speed\"]*data[\"Diff_Min_Speed\"])"
   ]
  },
  {
   "cell_type": "code",
   "execution_count": null,
   "metadata": {
    "collapsed": true
   },
   "outputs": [],
   "source": [
    "data[\"\"]"
   ]
  }
 ],
 "metadata": {
  "kernelspec": {
   "display_name": "Python 3",
   "language": "python",
   "name": "python3"
  },
  "language_info": {
   "codemirror_mode": {
    "name": "ipython",
    "version": 3
   },
   "file_extension": ".py",
   "mimetype": "text/x-python",
   "name": "python",
   "nbconvert_exporter": "python",
   "pygments_lexer": "ipython3",
   "version": "3.5.2"
  }
 },
 "nbformat": 4,
 "nbformat_minor": 0
}
