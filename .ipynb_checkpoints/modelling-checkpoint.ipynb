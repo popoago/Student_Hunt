{
 "cells": [
  {
   "cell_type": "code",
   "execution_count": 5,
   "metadata": {
    "collapsed": true
   },
   "outputs": [],
   "source": [
    "import pandas as pd\n",
    "import numpy as np\n",
    "import seaborn as sns\n",
    "from pandas import DataFrame,Series\n",
    "%matplotlib inline"
   ]
  },
  {
   "cell_type": "code",
   "execution_count": 95,
   "metadata": {
    "collapsed": true
   },
   "outputs": [],
   "source": [
    "data = pd.read_csv(\"Data.csv\")"
   ]
  },
  {
   "cell_type": "code",
   "execution_count": 130,
   "metadata": {
    "collapsed": false
   },
   "outputs": [
    {
     "name": "stdout",
     "output_type": "stream",
     "text": [
      "<class 'pandas.core.frame.DataFrame'>\n",
      "RangeIndex: 153959 entries, 0 to 153958\n",
      "Data columns (total 36 columns):\n",
      "Average_Atmospheric_Pressure    153959 non-null float64\n",
      "Average_Breeze_Speed            153959 non-null float64\n",
      "Average_Moisture_In_Park        153959 non-null float64\n",
      "Date                            153959 non-null object\n",
      "Day                             153959 non-null int64\n",
      "Direction_Of_Wind               153959 non-null float64\n",
      "Footfall                        114539 non-null float64\n",
      "ID                              153959 non-null int64\n",
      "Location_Type                   153959 non-null int64\n",
      "Max_Ambient_Pollution           153959 non-null float64\n",
      "Max_Atmospheric_Pressure        153959 non-null float64\n",
      "Max_Breeze_Speed                153959 non-null float64\n",
      "Max_Moisture_In_Park            153959 non-null float64\n",
      "Min_Ambient_Pollution           153959 non-null float64\n",
      "Min_Atmospheric_Pressure        153959 non-null float64\n",
      "Min_Breeze_Speed                153959 non-null float64\n",
      "Min_Moisture_In_Park            153959 non-null float64\n",
      "Month                           153959 non-null int64\n",
      "Park_ID                         153959 non-null int64\n",
      "Train                           153959 non-null bool\n",
      "Var1                            153959 non-null float64\n",
      "Weekday                         153959 non-null int64\n",
      "Year                            153959 non-null int64\n",
      "Pressure/Moisture               153959 non-null float64\n",
      "Pressure/Wind                   153959 non-null float64\n",
      "Wind_Origination                153959 non-null object\n",
      "Temperature                     153959 non-null float64\n",
      "Speed_Range                     153959 non-null float64\n",
      "Pressure_Range                  153959 non-null float64\n",
      "Moisture_Range                  153959 non-null float64\n",
      "Pollution_Range                 153959 non-null float64\n",
      "Season                          153959 non-null object\n",
      "Mean_Park_Month                 153959 non-null float64\n",
      "Rain                            153959 non-null float64\n",
      "Poll/Moisture_diff              153959 non-null float64\n",
      "Poll/Moisture                   153959 non-null float64\n",
      "dtypes: bool(1), float64(25), int64(7), object(3)\n",
      "memory usage: 41.3+ MB\n"
     ]
    }
   ],
   "source": [
    "data.info()"
   ]
  },
  {
   "cell_type": "code",
   "execution_count": 17,
   "metadata": {
    "collapsed": true
   },
   "outputs": [],
   "source": [
    "train = data.loc[data[\"Train\"]==True,]\n",
    "test = data.loc[data[\"Train\"]==False]"
   ]
  },
  {
   "cell_type": "code",
   "execution_count": null,
   "metadata": {
    "collapsed": true
   },
   "outputs": [],
   "source": []
  },
  {
   "cell_type": "code",
   "execution_count": 61,
   "metadata": {
    "collapsed": false
   },
   "outputs": [
    {
     "data": {
      "text/plain": [
       "431756.62506925437"
      ]
     },
     "execution_count": 61,
     "metadata": {},
     "output_type": "execute_result"
    }
   ],
   "source": [
    "train.groupby(\"Day\").Footfall.var().sum()"
   ]
  },
  {
   "cell_type": "code",
   "execution_count": 83,
   "metadata": {
    "collapsed": true
   },
   "outputs": [],
   "source": [
    "def calc_anova(dataframe,x,target):\n",
    "    grand_mean = dataframe[target].mean()\n",
    "    categories = dataframe[x].value_counts()\n",
    "    groups = dataframe.groupby(x)[target]\n",
    "    ss_between = (((groups.mean()-grand_mean)**2)*groups.count()).sum()\n",
    "    df_between = len(categories)-1\n",
    "    ms_between = ss_between/df_between\n",
    "    ss_within = (groups.var()*(groups.count()-1)).sum()\n",
    "    df_within = dataframe.shape[0]-len(categories)\n",
    "    ms_within = ss_within/df_within\n",
    "    F = ms_between/ms_within\n",
    "    eeta = ss_between/(ss_between+ss_within)\n",
    "    print(F)\n",
    "    print(\"eeta = \",eeta)"
   ]
  },
  {
   "cell_type": "code",
   "execution_count": 84,
   "metadata": {
    "collapsed": false
   },
   "outputs": [
    {
     "name": "stdout",
     "output_type": "stream",
     "text": [
      "6.188004398452261\n",
      "eeta =  0.00032406658783473686\n"
     ]
    }
   ],
   "source": [
    "calc_anova(train,\"Day\",\"Footfall\")"
   ]
  },
  {
   "cell_type": "code",
   "execution_count": 86,
   "metadata": {
    "collapsed": false
   },
   "outputs": [
    {
     "name": "stdout",
     "output_type": "stream",
     "text": [
      "0.8870545076260429\n",
      "eeta =  2.3233960741339433e-05\n"
     ]
    }
   ],
   "source": [
    "calc_anova(train,\"Location_Type\",\"Footfall\")"
   ]
  },
  {
   "cell_type": "code",
   "execution_count": 87,
   "metadata": {
    "collapsed": false
   },
   "outputs": [
    {
     "name": "stdout",
     "output_type": "stream",
     "text": [
      "78.51798339842898\n",
      "eeta =  0.00748498651728068\n"
     ]
    }
   ],
   "source": [
    "calc_anova(train,\"Year\",\"Footfall\")"
   ]
  },
  {
   "cell_type": "code",
   "execution_count": 89,
   "metadata": {
    "collapsed": false
   },
   "outputs": [
    {
     "name": "stdout",
     "output_type": "stream",
     "text": [
      "3762.9761691562603\n",
      "eeta =  0.2654746501542638\n"
     ]
    }
   ],
   "source": [
    "calc_anova(train,\"Month\",\"Footfall\")"
   ]
  },
  {
   "cell_type": "code",
   "execution_count": 90,
   "metadata": {
    "collapsed": false
   },
   "outputs": [
    {
     "name": "stdout",
     "output_type": "stream",
     "text": [
      "13.072261716343013\n",
      "eeta =  0.0030727749051345935\n"
     ]
    }
   ],
   "source": [
    "calc_anova(train,\"Park_ID\",\"Footfall\")"
   ]
  },
  {
   "cell_type": "code",
   "execution_count": 91,
   "metadata": {
    "collapsed": false
   },
   "outputs": [
    {
     "name": "stdout",
     "output_type": "stream",
     "text": [
      "0.0021047365012230846\n",
      "eeta =  1.8376039729924502e-08\n"
     ]
    }
   ],
   "source": [
    "calc_anova(train,\"Weekday\",\"Footfall\")"
   ]
  },
  {
   "cell_type": "code",
   "execution_count": 97,
   "metadata": {
    "collapsed": false
   },
   "outputs": [
    {
     "name": "stdout",
     "output_type": "stream",
     "text": [
      "11027.768743729015\n",
      "eeta =  0.2241138451986763\n"
     ]
    }
   ],
   "source": [
    "calc_anova(train,\"Season\",\"Footfall\")"
   ]
  },
  {
   "cell_type": "code",
   "execution_count": 98,
   "metadata": {
    "collapsed": false
   },
   "outputs": [
    {
     "data": {
      "text/plain": [
       "Year\n",
       "1990    1183.409836\n",
       "1991    1200.065644\n",
       "1992    1211.654176\n",
       "1993    1200.084149\n",
       "1994    1201.061644\n",
       "1995    1208.101468\n",
       "1996    1228.270589\n",
       "1997    1229.770646\n",
       "1998    1209.150634\n",
       "1999    1203.030238\n",
       "2000    1143.869966\n",
       "2001    1216.315982\n",
       "2002            NaN\n",
       "2003            NaN\n",
       "2004            NaN\n",
       "2005            NaN\n",
       "Name: Footfall, dtype: float64"
      ]
     },
     "execution_count": 98,
     "metadata": {},
     "output_type": "execute_result"
    }
   ],
   "source": [
    "data.groupby(\"Year\").mean().Footfall"
   ]
  },
  {
   "cell_type": "code",
   "execution_count": 240,
   "metadata": {
    "collapsed": true
   },
   "outputs": [],
   "source": [
    "loc = pd.get_dummies(data[\"Location_Type\"],drop_first=True,prefix=\"loc\")\n",
    "year = pd.get_dummies(data[\"Year\"],drop_first=True,prefix=\"year\")\n",
    "month = pd.get_dummies(data[\"Month\"],drop_first=True,prefix=\"month\")\n",
    "season = pd.get_dummies(data[\"Season\"],drop_first=True,prefix=\"season\")\n",
    "day = pd.get_dummies(data[\"Day\"],drop_first=True,prefix=\"day\")\n",
    "weekday = pd.get_dummies(data[\"Weekday\"],drop_first=True,prefix=\"weekday\")\n",
    "park = pd.get_dummies(data[\"Park_ID\"],drop_first=True,prefix=\"park\")\n",
    "wind = pd.get_dummies(data[\"Wind_Origination\"],drop_first=True,prefix=\"wind\")"
   ]
  },
  {
   "cell_type": "code",
   "execution_count": 241,
   "metadata": {
    "collapsed": false
   },
   "outputs": [],
   "source": [
    "data2 = pd.concat([data,loc,year,month,season,day,weekday,park,wind],axis=1)"
   ]
  },
  {
   "cell_type": "code",
   "execution_count": 242,
   "metadata": {
    "collapsed": false
   },
   "outputs": [],
   "source": [
    "data2.drop([\"Season\",\"Day\",\"Weekday\",\"Location_Type\",\"Year\",\"Wind_Origination\",\"Date\",\"ID\"],inplace=True,axis=1)"
   ]
  },
  {
   "cell_type": "code",
   "execution_count": 243,
   "metadata": {
    "collapsed": true
   },
   "outputs": [],
   "source": [
    "train2 = data2.loc[data[\"Train\"]==True,]\n",
    "test2 = data2.loc[data[\"Train\"]==False,]"
   ]
  },
  {
   "cell_type": "code",
   "execution_count": 192,
   "metadata": {
    "collapsed": false
   },
   "outputs": [],
   "source": [
    "from sklearn import preprocessing\n",
    "from sklearn.cross_validation import train_test_split\n",
    "from sklearn.cross_validation import KFold\n",
    "from sklearn.ensemble import RandomForestRegressor\n",
    "from sklearn.metrics import accuracy_score\n",
    "from sklearn.preprocessing import normalize"
   ]
  },
  {
   "cell_type": "code",
   "execution_count": 248,
   "metadata": {
    "collapsed": false
   },
   "outputs": [],
   "source": [
    "features = list(train2.columns)\n",
    "features.remove(\"Footfall\")"
   ]
  },
  {
   "cell_type": "code",
   "execution_count": 253,
   "metadata": {
    "collapsed": false
   },
   "outputs": [],
   "source": [
    "X_train, X_test, y_train, y_test = train_test_split(train2[features],train2.Footfall,test_size=.3)\n",
    "X_train = DataFrame(normalize(X_train),columns=features)\n",
    "X_test = DataFrame(normalize(X_test),columns=features)"
   ]
  },
  {
   "cell_type": "code",
   "execution_count": 254,
   "metadata": {
    "collapsed": false
   },
   "outputs": [],
   "source": [
    "X_train.reset_index(drop=True,inplace=True)\n",
    "X_test.reset_index(drop=True,inplace=True)\n",
    "y_train.reset_index(drop=True,inplace=True)\n",
    "y_test.reset_index(drop=True,inplace=True)"
   ]
  },
  {
   "cell_type": "code",
   "execution_count": 255,
   "metadata": {
    "collapsed": false
   },
   "outputs": [],
   "source": [
    "X_data = pd.concat([X_train,y_train],axis=1)\n",
    "X_train[\"Mean_Park_Month\"]=X_data.groupby([\"Park_ID\",\"Month\"]).transform(lambda x: x.mean()).Footfall\n",
    "X_test[\"Mean_Park_Month\"] = X_data.groupby([\"Park_ID\",\"Month\"]).transform(lambda x: x.mean()).Footfall"
   ]
  },
  {
   "cell_type": "code",
   "execution_count": 256,
   "metadata": {
    "collapsed": true
   },
   "outputs": [],
   "source": [
    "X_test.drop([\"Month\",\"Park_ID\"],axis=1,inplace=True)\n",
    "X_train.drop([\"Month\",\"Park_ID\"],axis=1,inplace=True)\n",
    "features = list(X_train.columns)"
   ]
  },
  {
   "cell_type": "code",
   "execution_count": 257,
   "metadata": {
    "collapsed": false
   },
   "outputs": [],
   "source": [
    "cv = KFold(len(X_train),n_folds=10,shuffle=True)"
   ]
  },
  {
   "cell_type": "code",
   "execution_count": 258,
   "metadata": {
    "collapsed": false
   },
   "outputs": [],
   "source": [
    "model = RandomForestRegressor(n_estimators=10,min_samples_split=100,min_samples_leaf=50)"
   ]
  },
  {
   "cell_type": "code",
   "execution_count": 260,
   "metadata": {
    "collapsed": false
   },
   "outputs": [
    {
     "ename": "ValueError",
     "evalue": "Input contains NaN, infinity or a value too large for dtype('float32').",
     "output_type": "error",
     "traceback": [
      "\u001b[1;31m---------------------------------------------------------------------------\u001b[0m",
      "\u001b[1;31mValueError\u001b[0m                                Traceback (most recent call last)",
      "\u001b[1;32m<ipython-input-260-32b991c29d9e>\u001b[0m in \u001b[0;36m<module>\u001b[1;34m()\u001b[0m\n\u001b[0;32m      1\u001b[0m \u001b[0mresults\u001b[0m\u001b[1;33m=\u001b[0m\u001b[1;33m[\u001b[0m\u001b[1;33m]\u001b[0m\u001b[1;33m\u001b[0m\u001b[0m\n\u001b[0;32m      2\u001b[0m \u001b[1;32mfor\u001b[0m \u001b[0mtraincv\u001b[0m\u001b[1;33m,\u001b[0m\u001b[0mtestcv\u001b[0m \u001b[1;32min\u001b[0m \u001b[0mcv\u001b[0m\u001b[1;33m:\u001b[0m\u001b[1;33m\u001b[0m\u001b[0m\n\u001b[1;32m----> 3\u001b[1;33m     \u001b[0mprobas\u001b[0m \u001b[1;33m=\u001b[0m \u001b[0mmodel\u001b[0m\u001b[1;33m.\u001b[0m\u001b[0mfit\u001b[0m\u001b[1;33m(\u001b[0m\u001b[0mX_train\u001b[0m\u001b[1;33m.\u001b[0m\u001b[0mix\u001b[0m\u001b[1;33m[\u001b[0m\u001b[0mtraincv\u001b[0m\u001b[1;33m]\u001b[0m\u001b[1;33m,\u001b[0m\u001b[0my_train\u001b[0m\u001b[1;33m.\u001b[0m\u001b[0mix\u001b[0m\u001b[1;33m[\u001b[0m\u001b[0mtraincv\u001b[0m\u001b[1;33m]\u001b[0m\u001b[1;33m)\u001b[0m\u001b[1;33m.\u001b[0m\u001b[0mpredict\u001b[0m\u001b[1;33m(\u001b[0m\u001b[0mX_test\u001b[0m\u001b[1;33m.\u001b[0m\u001b[0mix\u001b[0m\u001b[1;33m[\u001b[0m\u001b[0mtestcv\u001b[0m\u001b[1;33m]\u001b[0m\u001b[1;33m)\u001b[0m\u001b[1;33m\u001b[0m\u001b[0m\n\u001b[0m\u001b[0;32m      4\u001b[0m     \u001b[0mresults\u001b[0m\u001b[1;33m.\u001b[0m\u001b[0mappend\u001b[0m\u001b[1;33m(\u001b[0m\u001b[0maccuracy_score\u001b[0m\u001b[1;33m(\u001b[0m\u001b[0mprobas\u001b[0m\u001b[1;33m,\u001b[0m\u001b[0mX_test\u001b[0m\u001b[1;33m.\u001b[0m\u001b[0mix\u001b[0m\u001b[1;33m[\u001b[0m\u001b[0mtestcv\u001b[0m\u001b[1;33m]\u001b[0m\u001b[1;33m)\u001b[0m\u001b[1;33m)\u001b[0m\u001b[1;33m\u001b[0m\u001b[0m\n\u001b[0;32m      5\u001b[0m \u001b[1;33m\u001b[0m\u001b[0m\n",
      "\u001b[1;32m/home/popoago/anaconda3/lib/python3.5/site-packages/sklearn/ensemble/forest.py\u001b[0m in \u001b[0;36mpredict\u001b[1;34m(self, X)\u001b[0m\n\u001b[0;32m    647\u001b[0m         \"\"\"\n\u001b[0;32m    648\u001b[0m         \u001b[1;31m# Check data\u001b[0m\u001b[1;33m\u001b[0m\u001b[1;33m\u001b[0m\u001b[0m\n\u001b[1;32m--> 649\u001b[1;33m         \u001b[0mX\u001b[0m \u001b[1;33m=\u001b[0m \u001b[0mself\u001b[0m\u001b[1;33m.\u001b[0m\u001b[0m_validate_X_predict\u001b[0m\u001b[1;33m(\u001b[0m\u001b[0mX\u001b[0m\u001b[1;33m)\u001b[0m\u001b[1;33m\u001b[0m\u001b[0m\n\u001b[0m\u001b[0;32m    650\u001b[0m \u001b[1;33m\u001b[0m\u001b[0m\n\u001b[0;32m    651\u001b[0m         \u001b[1;31m# Assign chunk of trees to jobs\u001b[0m\u001b[1;33m\u001b[0m\u001b[1;33m\u001b[0m\u001b[0m\n",
      "\u001b[1;32m/home/popoago/anaconda3/lib/python3.5/site-packages/sklearn/ensemble/forest.py\u001b[0m in \u001b[0;36m_validate_X_predict\u001b[1;34m(self, X)\u001b[0m\n\u001b[0;32m    317\u001b[0m                                  \"call `fit` before exploiting the model.\")\n\u001b[0;32m    318\u001b[0m \u001b[1;33m\u001b[0m\u001b[0m\n\u001b[1;32m--> 319\u001b[1;33m         \u001b[1;32mreturn\u001b[0m \u001b[0mself\u001b[0m\u001b[1;33m.\u001b[0m\u001b[0mestimators_\u001b[0m\u001b[1;33m[\u001b[0m\u001b[1;36m0\u001b[0m\u001b[1;33m]\u001b[0m\u001b[1;33m.\u001b[0m\u001b[0m_validate_X_predict\u001b[0m\u001b[1;33m(\u001b[0m\u001b[0mX\u001b[0m\u001b[1;33m,\u001b[0m \u001b[0mcheck_input\u001b[0m\u001b[1;33m=\u001b[0m\u001b[1;32mTrue\u001b[0m\u001b[1;33m)\u001b[0m\u001b[1;33m\u001b[0m\u001b[0m\n\u001b[0m\u001b[0;32m    320\u001b[0m \u001b[1;33m\u001b[0m\u001b[0m\n\u001b[0;32m    321\u001b[0m     \u001b[1;33m@\u001b[0m\u001b[0mproperty\u001b[0m\u001b[1;33m\u001b[0m\u001b[0m\n",
      "\u001b[1;32m/home/popoago/anaconda3/lib/python3.5/site-packages/sklearn/tree/tree.py\u001b[0m in \u001b[0;36m_validate_X_predict\u001b[1;34m(self, X, check_input)\u001b[0m\n\u001b[0;32m    363\u001b[0m \u001b[1;33m\u001b[0m\u001b[0m\n\u001b[0;32m    364\u001b[0m         \u001b[1;32mif\u001b[0m \u001b[0mcheck_input\u001b[0m\u001b[1;33m:\u001b[0m\u001b[1;33m\u001b[0m\u001b[0m\n\u001b[1;32m--> 365\u001b[1;33m             \u001b[0mX\u001b[0m \u001b[1;33m=\u001b[0m \u001b[0mcheck_array\u001b[0m\u001b[1;33m(\u001b[0m\u001b[0mX\u001b[0m\u001b[1;33m,\u001b[0m \u001b[0mdtype\u001b[0m\u001b[1;33m=\u001b[0m\u001b[0mDTYPE\u001b[0m\u001b[1;33m,\u001b[0m \u001b[0maccept_sparse\u001b[0m\u001b[1;33m=\u001b[0m\u001b[1;34m\"csr\"\u001b[0m\u001b[1;33m)\u001b[0m\u001b[1;33m\u001b[0m\u001b[0m\n\u001b[0m\u001b[0;32m    366\u001b[0m             if issparse(X) and (X.indices.dtype != np.intc or\n\u001b[0;32m    367\u001b[0m                                 X.indptr.dtype != np.intc):\n",
      "\u001b[1;32m/home/popoago/anaconda3/lib/python3.5/site-packages/sklearn/utils/validation.py\u001b[0m in \u001b[0;36mcheck_array\u001b[1;34m(array, accept_sparse, dtype, order, copy, force_all_finite, ensure_2d, allow_nd, ensure_min_samples, ensure_min_features, warn_on_dtype, estimator)\u001b[0m\n\u001b[0;32m    396\u001b[0m                              % (array.ndim, estimator_name))\n\u001b[0;32m    397\u001b[0m         \u001b[1;32mif\u001b[0m \u001b[0mforce_all_finite\u001b[0m\u001b[1;33m:\u001b[0m\u001b[1;33m\u001b[0m\u001b[0m\n\u001b[1;32m--> 398\u001b[1;33m             \u001b[0m_assert_all_finite\u001b[0m\u001b[1;33m(\u001b[0m\u001b[0marray\u001b[0m\u001b[1;33m)\u001b[0m\u001b[1;33m\u001b[0m\u001b[0m\n\u001b[0m\u001b[0;32m    399\u001b[0m \u001b[1;33m\u001b[0m\u001b[0m\n\u001b[0;32m    400\u001b[0m     \u001b[0mshape_repr\u001b[0m \u001b[1;33m=\u001b[0m \u001b[0m_shape_repr\u001b[0m\u001b[1;33m(\u001b[0m\u001b[0marray\u001b[0m\u001b[1;33m.\u001b[0m\u001b[0mshape\u001b[0m\u001b[1;33m)\u001b[0m\u001b[1;33m\u001b[0m\u001b[0m\n",
      "\u001b[1;32m/home/popoago/anaconda3/lib/python3.5/site-packages/sklearn/utils/validation.py\u001b[0m in \u001b[0;36m_assert_all_finite\u001b[1;34m(X)\u001b[0m\n\u001b[0;32m     52\u001b[0m             and not np.isfinite(X).all()):\n\u001b[0;32m     53\u001b[0m         raise ValueError(\"Input contains NaN, infinity\"\n\u001b[1;32m---> 54\u001b[1;33m                          \" or a value too large for %r.\" % X.dtype)\n\u001b[0m\u001b[0;32m     55\u001b[0m \u001b[1;33m\u001b[0m\u001b[0m\n\u001b[0;32m     56\u001b[0m \u001b[1;33m\u001b[0m\u001b[0m\n",
      "\u001b[1;31mValueError\u001b[0m: Input contains NaN, infinity or a value too large for dtype('float32')."
     ]
    }
   ],
   "source": [
    "results=[]\n",
    "for traincv,testcv in cv:\n",
    "    probas = model.fit(X_train.ix[traincv],y_train.ix[traincv]).predict(X_test.ix[testcv])\n",
    "    results.append(accuracy_score(probas,X_test.ix[testcv]))\n",
    "                       "
   ]
  },
  {
   "cell_type": "code",
   "execution_count": 187,
   "metadata": {
    "collapsed": true
   },
   "outputs": [],
   "source": [
    "from sklearn.linear_model import LinearRegression"
   ]
  },
  {
   "cell_type": "code",
   "execution_count": 199,
   "metadata": {
    "collapsed": true
   },
   "outputs": [],
   "source": [
    "LinearRegression?"
   ]
  },
  {
   "cell_type": "code",
   "execution_count": 190,
   "metadata": {
    "collapsed": false
   },
   "outputs": [
    {
     "data": {
      "text/plain": [
       "LinearRegression(copy_X=True, fit_intercept=True, n_jobs=1, normalize=False)"
      ]
     },
     "execution_count": 190,
     "metadata": {},
     "output_type": "execute_result"
    }
   ],
   "source": [
    "lr.fit(X_train,y_train)"
   ]
  },
  {
   "cell_type": "code",
   "execution_count": 198,
   "metadata": {
    "collapsed": false
   },
   "outputs": [],
   "source": [
    "RandomForestRegressor?"
   ]
  },
  {
   "cell_type": "code",
   "execution_count": 200,
   "metadata": {
    "collapsed": true
   },
   "outputs": [],
   "source": [
    "from sklearn.preprocessing import scale"
   ]
  },
  {
   "cell_type": "code",
   "execution_count": 220,
   "metadata": {
    "collapsed": false
   },
   "outputs": [
    {
     "data": {
      "text/plain": [
       "100"
      ]
     },
     "execution_count": 220,
     "metadata": {},
     "output_type": "execute_result"
    }
   ],
   "source": [
    "len(features)"
   ]
  },
  {
   "cell_type": "code",
   "execution_count": 252,
   "metadata": {
    "collapsed": false
   },
   "outputs": [
    {
     "data": {
      "text/plain": [
       "['Average_Atmospheric_Pressure',\n",
       " 'Average_Breeze_Speed',\n",
       " 'Average_Moisture_In_Park',\n",
       " 'Direction_Of_Wind',\n",
       " 'Max_Ambient_Pollution',\n",
       " 'Max_Atmospheric_Pressure',\n",
       " 'Max_Breeze_Speed',\n",
       " 'Max_Moisture_In_Park',\n",
       " 'Min_Ambient_Pollution',\n",
       " 'Min_Atmospheric_Pressure',\n",
       " 'Min_Breeze_Speed',\n",
       " 'Min_Moisture_In_Park',\n",
       " 'Month',\n",
       " 'Park_ID',\n",
       " 'Train',\n",
       " 'Var1',\n",
       " 'Pressure/Moisture',\n",
       " 'Pressure/Wind',\n",
       " 'Temperature',\n",
       " 'Speed_Range',\n",
       " 'Pressure_Range',\n",
       " 'Moisture_Range',\n",
       " 'Pollution_Range',\n",
       " 'Mean_Park_Month',\n",
       " 'Rain',\n",
       " 'Poll/Moisture_diff',\n",
       " 'Poll/Moisture',\n",
       " 'loc_2',\n",
       " 'loc_3',\n",
       " 'loc_4',\n",
       " 'year_1991',\n",
       " 'year_1992',\n",
       " 'year_1993',\n",
       " 'year_1994',\n",
       " 'year_1995',\n",
       " 'year_1996',\n",
       " 'year_1997',\n",
       " 'year_1998',\n",
       " 'year_1999',\n",
       " 'year_2000',\n",
       " 'year_2001',\n",
       " 'year_2002',\n",
       " 'year_2003',\n",
       " 'year_2004',\n",
       " 'year_2005',\n",
       " 'month_2',\n",
       " 'month_3',\n",
       " 'month_4',\n",
       " 'month_5',\n",
       " 'month_6',\n",
       " 'month_7',\n",
       " 'month_8',\n",
       " 'month_9',\n",
       " 'month_10',\n",
       " 'month_11',\n",
       " 'month_12',\n",
       " 'season_Spring',\n",
       " 'season_Summer',\n",
       " 'season_Winter',\n",
       " 'day_1',\n",
       " 'day_2',\n",
       " 'day_3',\n",
       " 'day_4',\n",
       " 'day_5',\n",
       " 'day_6',\n",
       " 'weekday_1',\n",
       " 'park_13',\n",
       " 'park_14',\n",
       " 'park_15',\n",
       " 'park_16',\n",
       " 'park_17',\n",
       " 'park_18',\n",
       " 'park_19',\n",
       " 'park_20',\n",
       " 'park_21',\n",
       " 'park_22',\n",
       " 'park_23',\n",
       " 'park_24',\n",
       " 'park_25',\n",
       " 'park_26',\n",
       " 'park_27',\n",
       " 'park_28',\n",
       " 'park_29',\n",
       " 'park_30',\n",
       " 'park_31',\n",
       " 'park_32',\n",
       " 'park_33',\n",
       " 'park_34',\n",
       " 'park_35',\n",
       " 'park_36',\n",
       " 'park_37',\n",
       " 'park_38',\n",
       " 'park_39',\n",
       " 'wind_N',\n",
       " 'wind_NE',\n",
       " 'wind_NW',\n",
       " 'wind_S',\n",
       " 'wind_SE',\n",
       " 'wind_SW',\n",
       " 'wind_W']"
      ]
     },
     "execution_count": 252,
     "metadata": {},
     "output_type": "execute_result"
    }
   ],
   "source": [
    "list(X_train.columns)"
   ]
  },
  {
   "cell_type": "code",
   "execution_count": 249,
   "metadata": {
    "collapsed": false
   },
   "outputs": [
    {
     "data": {
      "text/plain": [
       "['Average_Atmospheric_Pressure',\n",
       " 'Average_Breeze_Speed',\n",
       " 'Average_Moisture_In_Park',\n",
       " 'Direction_Of_Wind',\n",
       " 'Max_Ambient_Pollution',\n",
       " 'Max_Atmospheric_Pressure',\n",
       " 'Max_Breeze_Speed',\n",
       " 'Max_Moisture_In_Park',\n",
       " 'Min_Ambient_Pollution',\n",
       " 'Min_Atmospheric_Pressure',\n",
       " 'Min_Breeze_Speed',\n",
       " 'Min_Moisture_In_Park',\n",
       " 'Month',\n",
       " 'Park_ID',\n",
       " 'Train',\n",
       " 'Var1',\n",
       " 'Pressure/Moisture',\n",
       " 'Pressure/Wind',\n",
       " 'Temperature',\n",
       " 'Speed_Range',\n",
       " 'Pressure_Range',\n",
       " 'Moisture_Range',\n",
       " 'Pollution_Range',\n",
       " 'Mean_Park_Month',\n",
       " 'Rain',\n",
       " 'Poll/Moisture_diff',\n",
       " 'Poll/Moisture',\n",
       " 'loc_2',\n",
       " 'loc_3',\n",
       " 'loc_4',\n",
       " 'year_1991',\n",
       " 'year_1992',\n",
       " 'year_1993',\n",
       " 'year_1994',\n",
       " 'year_1995',\n",
       " 'year_1996',\n",
       " 'year_1997',\n",
       " 'year_1998',\n",
       " 'year_1999',\n",
       " 'year_2000',\n",
       " 'year_2001',\n",
       " 'year_2002',\n",
       " 'year_2003',\n",
       " 'year_2004',\n",
       " 'year_2005',\n",
       " 'month_2',\n",
       " 'month_3',\n",
       " 'month_4',\n",
       " 'month_5',\n",
       " 'month_6',\n",
       " 'month_7',\n",
       " 'month_8',\n",
       " 'month_9',\n",
       " 'month_10',\n",
       " 'month_11',\n",
       " 'month_12',\n",
       " 'season_Spring',\n",
       " 'season_Summer',\n",
       " 'season_Winter',\n",
       " 'day_1',\n",
       " 'day_2',\n",
       " 'day_3',\n",
       " 'day_4',\n",
       " 'day_5',\n",
       " 'day_6',\n",
       " 'weekday_1',\n",
       " 'park_13',\n",
       " 'park_14',\n",
       " 'park_15',\n",
       " 'park_16',\n",
       " 'park_17',\n",
       " 'park_18',\n",
       " 'park_19',\n",
       " 'park_20',\n",
       " 'park_21',\n",
       " 'park_22',\n",
       " 'park_23',\n",
       " 'park_24',\n",
       " 'park_25',\n",
       " 'park_26',\n",
       " 'park_27',\n",
       " 'park_28',\n",
       " 'park_29',\n",
       " 'park_30',\n",
       " 'park_31',\n",
       " 'park_32',\n",
       " 'park_33',\n",
       " 'park_34',\n",
       " 'park_35',\n",
       " 'park_36',\n",
       " 'park_37',\n",
       " 'park_38',\n",
       " 'park_39',\n",
       " 'wind_N',\n",
       " 'wind_NE',\n",
       " 'wind_NW',\n",
       " 'wind_S',\n",
       " 'wind_SE',\n",
       " 'wind_SW',\n",
       " 'wind_W']"
      ]
     },
     "execution_count": 249,
     "metadata": {},
     "output_type": "execute_result"
    }
   ],
   "source": [
    "features"
   ]
  },
  {
   "cell_type": "code",
   "execution_count": 265,
   "metadata": {
    "collapsed": false
   },
   "outputs": [
    {
     "data": {
      "text/plain": [
       "1922.0"
      ]
     },
     "execution_count": 265,
     "metadata": {},
     "output_type": "execute_result"
    }
   ],
   "source": [
    "y_train.max()"
   ]
  },
  {
   "cell_type": "code",
   "execution_count": 266,
   "metadata": {
    "collapsed": false
   },
   "outputs": [
    {
     "data": {
      "text/plain": [
       "Average_Atmospheric_Pressure    0\n",
       "Average_Breeze_Speed            0\n",
       "Average_Moisture_In_Park        0\n",
       "Direction_Of_Wind               0\n",
       "Max_Ambient_Pollution           0\n",
       "Max_Atmospheric_Pressure        0\n",
       "Max_Breeze_Speed                0\n",
       "Max_Moisture_In_Park            0\n",
       "Min_Ambient_Pollution           0\n",
       "Min_Atmospheric_Pressure        0\n",
       "Min_Breeze_Speed                0\n",
       "Min_Moisture_In_Park            0\n",
       "Train                           0\n",
       "Var1                            0\n",
       "Pressure/Moisture               0\n",
       "Pressure/Wind                   0\n",
       "Temperature                     0\n",
       "Speed_Range                     0\n",
       "Pressure_Range                  0\n",
       "Moisture_Range                  0\n",
       "Pollution_Range                 0\n",
       "Mean_Park_Month                 0\n",
       "Rain                            0\n",
       "Poll/Moisture_diff              0\n",
       "Poll/Moisture                   0\n",
       "loc_2                           0\n",
       "loc_3                           0\n",
       "loc_4                           0\n",
       "year_1991                       0\n",
       "year_1992                       0\n",
       "                               ..\n",
       "park_17                         0\n",
       "park_18                         0\n",
       "park_19                         0\n",
       "park_20                         0\n",
       "park_21                         0\n",
       "park_22                         0\n",
       "park_23                         0\n",
       "park_24                         0\n",
       "park_25                         0\n",
       "park_26                         0\n",
       "park_27                         0\n",
       "park_28                         0\n",
       "park_29                         0\n",
       "park_30                         0\n",
       "park_31                         0\n",
       "park_32                         0\n",
       "park_33                         0\n",
       "park_34                         0\n",
       "park_35                         0\n",
       "park_36                         0\n",
       "park_37                         0\n",
       "park_38                         0\n",
       "park_39                         0\n",
       "wind_N                          0\n",
       "wind_NE                         0\n",
       "wind_NW                         0\n",
       "wind_S                          0\n",
       "wind_SE                         0\n",
       "wind_SW                         0\n",
       "wind_W                          0\n",
       "dtype: int64"
      ]
     },
     "execution_count": 266,
     "metadata": {},
     "output_type": "execute_result"
    }
   ],
   "source": [
    "pd.isnull(X_train).sum()"
   ]
  },
  {
   "cell_type": "code",
   "execution_count": 271,
   "metadata": {
    "collapsed": false
   },
   "outputs": [
    {
     "data": {
      "text/html": [
       "<div>\n",
       "<table border=\"1\" class=\"dataframe\">\n",
       "  <thead>\n",
       "    <tr style=\"text-align: right;\">\n",
       "      <th></th>\n",
       "      <th>Distance</th>\n",
       "      <th>Length</th>\n",
       "    </tr>\n",
       "  </thead>\n",
       "  <tbody>\n",
       "    <tr>\n",
       "      <th>0</th>\n",
       "      <td>NaN</td>\n",
       "      <td>S</td>\n",
       "    </tr>\n",
       "    <tr>\n",
       "      <th>1</th>\n",
       "      <td>-11.0</td>\n",
       "      <td>S</td>\n",
       "    </tr>\n",
       "    <tr>\n",
       "      <th>2</th>\n",
       "      <td>-17.0</td>\n",
       "      <td>S</td>\n",
       "    </tr>\n",
       "    <tr>\n",
       "      <th>3</th>\n",
       "      <td>-9.0</td>\n",
       "      <td>S</td>\n",
       "    </tr>\n",
       "    <tr>\n",
       "      <th>4</th>\n",
       "      <td>-10.0</td>\n",
       "      <td>S</td>\n",
       "    </tr>\n",
       "    <tr>\n",
       "      <th>5</th>\n",
       "      <td>-5.0</td>\n",
       "      <td>S</td>\n",
       "    </tr>\n",
       "    <tr>\n",
       "      <th>6</th>\n",
       "      <td>12.0</td>\n",
       "      <td>L</td>\n",
       "    </tr>\n",
       "    <tr>\n",
       "      <th>7</th>\n",
       "      <td>9.0</td>\n",
       "      <td>L</td>\n",
       "    </tr>\n",
       "    <tr>\n",
       "      <th>8</th>\n",
       "      <td>16.0</td>\n",
       "      <td>L</td>\n",
       "    </tr>\n",
       "    <tr>\n",
       "      <th>9</th>\n",
       "      <td>8.0</td>\n",
       "      <td>L</td>\n",
       "    </tr>\n",
       "    <tr>\n",
       "      <th>10</th>\n",
       "      <td>15.0</td>\n",
       "      <td>L</td>\n",
       "    </tr>\n",
       "    <tr>\n",
       "      <th>11</th>\n",
       "      <td>0.5</td>\n",
       "      <td>N</td>\n",
       "    </tr>\n",
       "    <tr>\n",
       "      <th>12</th>\n",
       "      <td>0.0</td>\n",
       "      <td>N</td>\n",
       "    </tr>\n",
       "    <tr>\n",
       "      <th>13</th>\n",
       "      <td>-1.0</td>\n",
       "      <td>N</td>\n",
       "    </tr>\n",
       "    <tr>\n",
       "      <th>14</th>\n",
       "      <td>1.5</td>\n",
       "      <td>N</td>\n",
       "    </tr>\n",
       "    <tr>\n",
       "      <th>15</th>\n",
       "      <td>0.5</td>\n",
       "      <td>N</td>\n",
       "    </tr>\n",
       "    <tr>\n",
       "      <th>16</th>\n",
       "      <td>-0.1</td>\n",
       "      <td>N</td>\n",
       "    </tr>\n",
       "    <tr>\n",
       "      <th>17</th>\n",
       "      <td>0.0</td>\n",
       "      <td>N</td>\n",
       "    </tr>\n",
       "  </tbody>\n",
       "</table>\n",
       "</div>"
      ],
      "text/plain": [
       "    Distance Length\n",
       "0        NaN      S\n",
       "1      -11.0      S\n",
       "2      -17.0      S\n",
       "3       -9.0      S\n",
       "4      -10.0      S\n",
       "5       -5.0      S\n",
       "6       12.0      L\n",
       "7        9.0      L\n",
       "8       16.0      L\n",
       "9        8.0      L\n",
       "10      15.0      L\n",
       "11       0.5      N\n",
       "12       0.0      N\n",
       "13      -1.0      N\n",
       "14       1.5      N\n",
       "15       0.5      N\n",
       "16      -0.1      N\n",
       "17       0.0      N"
      ]
     },
     "execution_count": 271,
     "metadata": {},
     "output_type": "execute_result"
    }
   ],
   "source": [
    "pd.isnull(df.set_value(0,\"Distance\",np.nan))"
   ]
  },
  {
   "cell_type": "code",
   "execution_count": null,
   "metadata": {
    "collapsed": true
   },
   "outputs": [],
   "source": []
  }
 ],
 "metadata": {
  "kernelspec": {
   "display_name": "Python 3",
   "language": "python",
   "name": "python3"
  },
  "language_info": {
   "codemirror_mode": {
    "name": "ipython",
    "version": 3
   },
   "file_extension": ".py",
   "mimetype": "text/x-python",
   "name": "python",
   "nbconvert_exporter": "python",
   "pygments_lexer": "ipython3",
   "version": "3.5.2"
  }
 },
 "nbformat": 4,
 "nbformat_minor": 0
}
